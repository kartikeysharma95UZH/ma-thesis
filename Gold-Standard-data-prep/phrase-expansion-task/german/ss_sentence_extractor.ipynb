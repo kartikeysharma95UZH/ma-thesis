{
 "cells": [
  {
   "cell_type": "code",
   "execution_count": 1,
   "metadata": {},
   "outputs": [],
   "source": [
    "import spacy\n",
    "# import de_ict_ner_model\n",
    "import de_soski_ner_model\n",
    "from spacy.language import Language\n",
    "import logging\n",
    "log = logging.getLogger(__name__)\n",
    "import sys\n",
    "from smart_open import open\n",
    "import json\n"
   ]
  },
  {
   "cell_type": "code",
   "execution_count": 2,
   "metadata": {},
   "outputs": [],
   "source": [
    "import os,glob\n",
    "from tqdm import tqdm\n",
    "import pandas as pd\n",
    "import random\n",
    "folder_path = '/mnt/home/kartikeysharma/sentence_extraction/test_quarterly_datasets'"
   ]
  },
  {
   "cell_type": "markdown",
   "metadata": {},
   "source": [
    "## DATASET"
   ]
  },
  {
   "cell_type": "code",
   "execution_count": 3,
   "metadata": {},
   "outputs": [],
   "source": [
    "import re\n",
    "def get_all_jsonl_job_ad_files(folder_path):\n",
    "    # folder_path = 'ads_annotated/'\n",
    "    file_names_jsonl = []\n",
    "    for filename in glob.glob(os.path.join(folder_path, '*.jsonl.bz2')):\n",
    "        with open(filename, 'r') as f:\n",
    "            file_names_jsonl.append(filename)\n",
    "\n",
    "    date_regex = re.compile(r'\\d{4}-\\d{2}')\n",
    "\n",
    "    # Extract the dates from the file names and create a list of tuples with the date and file name\n",
    "    date_file_tuples = [(date_regex.search(name).group(0), name) for name in file_names_jsonl]\n",
    "\n",
    "    # Sort the list of tuples based on the extracted dates\n",
    "    sorted_tuples = sorted(date_file_tuples)\n",
    "\n",
    "    # Create a list of sorted file names from the sorted tuples\n",
    "    sorted_file_names = [tup[1] for tup in sorted_tuples]\n",
    "    return sorted_file_names"
   ]
  },
  {
   "cell_type": "code",
   "execution_count": 4,
   "metadata": {},
   "outputs": [
    {
     "data": {
      "text/plain": [
       "['/mnt/home/kartikeysharma/sentence_extraction/test_quarterly_datasets/ads_raw-2023-03.jsonl.bz2']"
      ]
     },
     "execution_count": 4,
     "metadata": {},
     "output_type": "execute_result"
    }
   ],
   "source": [
    "file_names_jsonl = get_all_jsonl_job_ad_files(folder_path)\n",
    "file_names_jsonl"
   ]
  },
  {
   "cell_type": "code",
   "execution_count": 5,
   "metadata": {},
   "outputs": [],
   "source": [
    "dataset = '/mnt/home/kartikeysharma/sentence_extraction/quarterly_datasets/ads_raw-2023-03.jsonl.bz2'"
   ]
  },
  {
   "cell_type": "code",
   "execution_count": 6,
   "metadata": {},
   "outputs": [],
   "source": [
    "@Language.component('paragrapher')\n",
    "def set_sentence_starts(doc):\n",
    "    for i, token in enumerate(doc):\n",
    "        if i > 0 and doc[i-1].text.count(\"\\n\") > 1 :\n",
    "            doc[i].is_sent_start = True\n",
    "            # log.error(f\"SENTENCE BOUNDARY: {i}\")\n",
    "    return doc\n",
    "\n",
    "\n",
    "def has_softskill_C(sentence):\n",
    "    for token in sentence:\n",
    "        if token.ent_type_.endswith(\"_C\"):\n",
    "            return True"
   ]
  },
  {
   "cell_type": "markdown",
   "metadata": {},
   "source": [
    "## Load the ner model"
   ]
  },
  {
   "cell_type": "code",
   "execution_count": 7,
   "metadata": {},
   "outputs": [
    {
     "name": "stderr",
     "output_type": "stream",
     "text": [
      "/mnt/home/kartikeysharma/sentence_extraction/softskill-completion/.venv/lib/python3.10/site-packages/tqdm/auto.py:21: TqdmWarning: IProgress not found. Please update jupyter and ipywidgets. See https://ipywidgets.readthedocs.io/en/stable/user_install.html\n",
      "  from .autonotebook import tqdm as notebook_tqdm\n"
     ]
    },
    {
     "name": "stdout",
     "output_type": "stream",
     "text": [
      "This is the first 24.07.2021 sentence.\n",
      "This .is .the .second sentence.\n"
     ]
    }
   ],
   "source": [
    "nlp = de_soski_ner_model.load()\n",
    "senter = nlp.create_pipe(\"sentencizer\")\n",
    "nlp.add_pipe(\"sentencizer\")\n",
    "\n",
    "doc = nlp(\"This is the first 24.07.2021 sentence. This .is .the .second sentence.\")\n",
    "for sent in doc.sents:\n",
    "    print(sent.text)"
   ]
  },
  {
   "cell_type": "code",
   "execution_count": 8,
   "metadata": {},
   "outputs": [
    {
     "name": "stdout",
     "output_type": "stream",
     "text": [
      "Pipeline component names: ['transformer', 'paragrapher', 'ner', 'sentencizer']\n",
      "\n",
      "Component name: transformer\n",
      "Component type: <class 'spacy_transformers.pipeline_component.Transformer'>\n",
      "Labels: ()\n",
      "Vocab: <spacy.vocab.Vocab object at 0x7f62d3b53400>\n",
      "Model: <spacy_transformers.layers.transformer_model.TransformerModel object at 0x7f62bf2d5d80>\n",
      "\n",
      "Component name: paragrapher\n",
      "Component type: <class 'function'>\n",
      "\n",
      "Component name: ner\n",
      "Component type: <class 'spacy.pipeline.ner.EntityRecognizer'>\n",
      "Labels: ('SoftSkill', 'SoftSkill_C')\n",
      "Vocab: <spacy.vocab.Vocab object at 0x7f62d3b53400>\n",
      "Model: <thinc.model.Model object at 0x7f62bd2833c0>\n",
      "\n",
      "Component name: sentencizer\n",
      "Component type: <class 'spacy.pipeline.sentencizer.Sentencizer'>\n",
      "Labels: ()\n"
     ]
    }
   ],
   "source": [
    "# from spacy.pipeline.senter import DEFAULT_SENTER_MODEL\n",
    "# config = {\"model\": DEFAULT_SENTER_MODEL,}\n",
    "\n",
    "nlp = de_soski_ner_model.load()\n",
    "senter = nlp.create_pipe(\"sentencizer\")\n",
    "nlp.add_pipe(\"sentencizer\")\n",
    "nlp.add_pipe('paragrapher', after=\"transformer\")\n",
    "\n",
    "# Get the names of all components in the pipeline\n",
    "pipeline_names = nlp.pipe_names\n",
    "print(\"Pipeline component names:\", pipeline_names)\n",
    "\n",
    "# Print detailed information about each pipeline component\n",
    "for name in pipeline_names:\n",
    "    pipe_component = nlp.get_pipe(name)\n",
    "    print(f\"\\nComponent name: {name}\")\n",
    "    print(f\"Component type: {type(pipe_component)}\")\n",
    "    if hasattr(pipe_component, \"labels\"):\n",
    "        print(f\"Labels: {pipe_component.labels}\")\n",
    "    if hasattr(pipe_component, \"vocab\"):\n",
    "        print(f\"Vocab: {pipe_component.vocab}\")\n",
    "    if hasattr(pipe_component, \"model\"):\n",
    "        print(f\"Model: {pipe_component.model}\")"
   ]
  },
  {
   "cell_type": "code",
   "execution_count": 9,
   "metadata": {},
   "outputs": [
    {
     "name": "stdout",
     "output_type": "stream",
     "text": [
      "Pipeline component 0: transformer (<class 'spacy_transformers.pipeline_component.Transformer'>)\n",
      "Pipeline component 1: paragrapher (<class 'function'>)\n",
      "Pipeline component 2: ner (<class 'spacy.pipeline.ner.EntityRecognizer'>)\n",
      "Pipeline component 3: sentencizer (<class 'spacy.pipeline.sentencizer.Sentencizer'>)\n"
     ]
    }
   ],
   "source": [
    "# Print the pipeline components in order\n",
    "for i, component in enumerate(nlp.pipeline):\n",
    "    print(f\"Pipeline component {i}: {component[0]} ({type(component[1])})\")"
   ]
  },
  {
   "cell_type": "markdown",
   "metadata": {},
   "source": [
    "## process each sentence and prepare prompt "
   ]
  },
  {
   "cell_type": "code",
   "execution_count": 10,
   "metadata": {},
   "outputs": [],
   "source": [
    "def prepare_prompt(sentence):\n",
    "    # nlp = de_soski_ner_model.load()\n",
    "    # dc = nlp(sentence)\n",
    "    # print(dc.ents)\n",
    "    text = sentence.text\n",
    "    words = text.split()\n",
    "    num_tokens = len(words)\n",
    "\n",
    "    for ent in sentence.ents:\n",
    "        if ent.label_ == 'SoftSkill_C':\n",
    "            text = text.replace(ent.text, f\"<SoftSkill_C>{ent.text}</SoftSkill_C>\")\n",
    "        if ent.label_ == 'SoftSkill':\n",
    "            text = text.replace(ent.text, f\"<SoftSkill>{ent.text}</SoftSkill>\")\n",
    "    # print(sentence)\n",
    "    return text, num_tokens"
   ]
  },
  {
   "cell_type": "markdown",
   "metadata": {},
   "source": [
    "## extract softskill_c terms as dataframe from the single jsonL file"
   ]
  },
  {
   "cell_type": "code",
   "execution_count": 11,
   "metadata": {},
   "outputs": [],
   "source": [
    "def get_softskill(data, num, language):\n",
    "    # log.warning(self.args)\n",
    "    # entities = []\n",
    "    # entity_labels = []\n",
    "    # enitit_start_char = []\n",
    "    # entity_end_char = []\n",
    "    entity_sent = []\n",
    "    \n",
    "    job_ids_list = []\n",
    "    year_list = []\n",
    "    quarter_list = []\n",
    "    creation_date_list = []\n",
    "    text_valid_list = [] \n",
    "    length_list = []\n",
    "    language_list = []\n",
    "    text_list = []\n",
    "    tokens_in_sent_list = []\n",
    "    pipeline_version_list = []\n",
    "    actual_sentence_list = []\n",
    "\n",
    "    with open(data) as infile:\n",
    "        json_lines = infile.readlines()\n",
    "        # random.seed(11)\n",
    "        # random.shuffle(json_lines)\n",
    "\n",
    "        for i,l in enumerate(tqdm(json_lines)):\n",
    "            # print(i)\n",
    "            if i > num-1:\n",
    "                break\n",
    "            data = json.loads(l)\n",
    "            if data['language'] != language or data[\"text_valid\"] != 1 or \"adve_text_copy\" not in data:\n",
    "                continue\n",
    "            \n",
    "            doc = nlp(data[\"adve_text_copy\"])\n",
    "            # print(f'the value of doc is {doc}')\n",
    "\n",
    "            job_ids = data[\"adve_iden_adve\"]\n",
    "            year = data[\"adve_time_year\"]\n",
    "            quarter = data[\"adve_time_quar\"]\n",
    "            # creation_date = data[\"creation_date\"]\n",
    "            text_valid = data[\"text_valid\"]\n",
    "            length = data[\"length\"]\n",
    "            language = data[\"language\"]\n",
    "            text = data[\"adve_text_copy\"]\n",
    "            pipeline_version = data[\"pipeline_version\"]\n",
    "            # print(f'entities are {doc.ents}')\n",
    "            # print('************************  NEW JOB AD ***************************  NEW JOB AD *****************************')\n",
    "            # print(f'value of doc.ents is : {doc.ents}')\n",
    "            # print(f'value of doc.sents is : {doc.sents}')\n",
    "\n",
    "            if doc.ents:\n",
    "                for j, sent in enumerate(doc.sents):\n",
    "                    # print(f'sentence nummer{j} is here --> {sent.text}')\n",
    "                    if not has_softskill_C(sent):\n",
    "                        continue\n",
    "                    # print(f\"-------------SENT {j}\")\n",
    "                    # print(f'The value of the {j}th sentence is *****  {sent.text}')\n",
    "\n",
    "                    flag_softskill = 0\n",
    "                    flag_softskill_C = 0\n",
    "                    for token  in sent:\n",
    "                        # print(f'the token is {token.text}, and its label is {token.ent_type_}')\n",
    "                        if token.ent_type_ == \"SoftSkill\":\n",
    "                            flag_softskill = 1\n",
    "                        if token.ent_type_ == \"SoftSkill_C\":\n",
    "                            flag_softskill_C = 1\n",
    "                    if flag_softskill == 1 and flag_softskill_C == 1:\n",
    "                        print(doc)\n",
    "                        prompt_sent, num_tokens = prepare_prompt(sent)\n",
    "                        actual_sentence = sent.text\n",
    "                        # print(f'The value of the produced prompt is @@@@@@  {prompt_sent}')\n",
    "                        actual_sentence_list.append(actual_sentence)\n",
    "                        tokens_in_sent_list.append(num_tokens)\n",
    "                        entity_sent.append(prompt_sent)\n",
    "                        job_ids_list.append(job_ids)\n",
    "                        year_list.append(year)\n",
    "                        quarter_list.append(quarter)\n",
    "                        # creation_date_list.append(creation_date)\n",
    "                        text_valid_list.append(text_valid)\n",
    "                        length_list.append(length)\n",
    "                        language_list.append(language)\n",
    "                        text_list.append(text)\n",
    "                        pipeline_version_list.append(pipeline_version)\n",
    "\n",
    "                        continue\n",
    "    \n",
    "    zipped_list = list(zip( job_ids_list, year_list, quarter_list,entity_sent,actual_sentence_list,tokens_in_sent_list, text_valid_list, length_list, language_list, pipeline_version_list, text_list))\n",
    "    df = pd.DataFrame(zipped_list, columns =['job_ids_list', 'year_list', 'quarter_list','entity_sent', 'actual_sentence_list','tokens_in_sent_list', 'text_valid_list', 'length_list', 'language_list', 'pipeline_version_list', 'text_list']) \n",
    "    return df"
   ]
  },
  {
   "cell_type": "code",
   "execution_count": 26,
   "metadata": {},
   "outputs": [
    {
     "data": {
      "text/plain": [
       "job_ids_list                                                                                                                                                                                                                                                                                                                                                                                                                                                                                                                                                                                                                                                                                                                                                                                                                           sjmm_qua-2-02-2021-06-02853-1-000018488\n",
       "year_list                                                                                                                                                                                                                                                                                                                                                                                                                                                                                                                                                                                                                                                                                                                                                                                                                                                                 2021\n",
       "quarter_list                                                                                                                                                                                                                                                                                                                                                                                                                                                                                                                                                                                                                                                                                                                                                                                                                                                        2021-06-01\n",
       "entity_sent                                                                                                                                                                                                                                                                                                                                                                                                                                                                                                                                                                                             Abgeschlossene Berufsausbildung oder Matura\\n\\t<SoftSkill_C>Kreatives</SoftSkill_C> und <SoftSkill>handwerkliches Geschick</SoftSkill>\\n\\t<SoftSkill>Flair im Umgang mit Menschen mit einer Beeinträchtigung</SoftSkill>\\n\\tGute PC-Anwenderkenntnisse (MS Office)\\n\\n\n",
       "actual_sentence_list                                                                                                                                                                                                                                                                                                                                                                                                                                                                                                                                                                                                                                                             Abgeschlossene Berufsausbildung oder Matura\\n\\tKreatives und handwerkliches Geschick\\n\\tFlair im Umgang mit Menschen mit einer Beeinträchtigung\\n\\tGute PC-Anwenderkenntnisse (MS Office)\\n\\n\n",
       "tokens_in_sent_list                                                                                                                                                                                                                                                                                                                                                                                                                                                                                                                                                                                                                                                                                                                                                                                                                                                         20\n",
       "text_valid_list                                                                                                                                                                                                                                                                                                                                                                                                                                                                                                                                                                                                                                                                                                                                                                                                                                                              1\n",
       "length_list                                                                                                                                                                                                                                                                                                                                                                                                                                                                                                                                                                                                                                                                                                                                                                                                                                                                794\n",
       "language_list                                                                                                                                                                                                                                                                                                                                                                                                                                                                                                                                                                                                                                                                                                                                                                                                                                                               de\n",
       "pipeline_version_list                                                                                                                                                                                                                                                                                                                                                                                                                                                                                                                                                                                                                                                                                                                                                                                                                                                  f5db770\n",
       "text_list                Für unsere Abteilung Handwerk & Kunst, an unserem Standort Baar-Inwil, suchen wir per\\n1. August 2021 für 6 Monate zwei engagierte Personen für ein\\nPraktikum 100%\\nUntere Rainstrasse 31, 6340 Baar\\nAufgaben\\n\\n\\tUnterstützen und Begleiten einer Gruppe von erwachsenen Menschen mit einer psychischen, geistigen und/oder körperlichen Beeinträchtigung\\n\\tMithelfen beim Herstellen von marktfähigen Produkten mit verschiedensten Materialien wie Papier, Holz, Ton, Textil\\n\\tMithelfen beim Bearbeiten von Kundenaufträgen mit und durch die Klientinnen und Klienten\\n\\nProfil\\n\\n\\tAbgeschlossene Berufsausbildung oder Matura\\n\\tKreatives und handwerkliches Geschick\\n\\tFlair im Umgang mit Menschen mit einer Beeinträchtigung\\n\\tGute PC-Anwenderkenntnisse (MS Office)\\n\\nKontakt\\nCéline Cudré\\nSachbearbeiterin HR\\n041 781 64 99\n",
       "Name: 4, dtype: object"
      ]
     },
     "execution_count": 26,
     "metadata": {},
     "output_type": "execute_result"
    }
   ],
   "source": [
    "df.iloc[4]"
   ]
  },
  {
   "cell_type": "code",
   "execution_count": 31,
   "metadata": {},
   "outputs": [
    {
     "name": "stderr",
     "output_type": "stream",
     "text": [
      "  0%|          | 25/39897 [00:07<3:07:26,  3.55it/s]\n"
     ]
    },
    {
     "data": {
      "text/html": [
       "<div>\n",
       "<style scoped>\n",
       "    .dataframe tbody tr th:only-of-type {\n",
       "        vertical-align: middle;\n",
       "    }\n",
       "\n",
       "    .dataframe tbody tr th {\n",
       "        vertical-align: top;\n",
       "    }\n",
       "\n",
       "    .dataframe thead th {\n",
       "        text-align: right;\n",
       "    }\n",
       "</style>\n",
       "<table border=\"1\" class=\"dataframe\">\n",
       "  <thead>\n",
       "    <tr style=\"text-align: right;\">\n",
       "      <th></th>\n",
       "      <th>job_ids_list</th>\n",
       "      <th>year_list</th>\n",
       "      <th>quarter_list</th>\n",
       "      <th>entity_sent</th>\n",
       "      <th>actual_sentence_list</th>\n",
       "      <th>tokens_in_sent_list</th>\n",
       "      <th>text_valid_list</th>\n",
       "      <th>length_list</th>\n",
       "      <th>language_list</th>\n",
       "      <th>pipeline_version_list</th>\n",
       "      <th>text_list</th>\n",
       "    </tr>\n",
       "  </thead>\n",
       "  <tbody>\n",
       "    <tr>\n",
       "      <th>0</th>\n",
       "      <td>sjmm_qua-2-02-2021-06-02852-1-000018481</td>\n",
       "      <td>2021</td>\n",
       "      <td>2021-06-01</td>\n",
       "      <td>Ihre Stärken• Matura/angefangenes Studium im Bereich Marketing • Erste Berufserfahrung im Bereich Marketing und Grundkenntnisse von Produktionsabläufen der    Werbemittelproduktion von Vorteil• &lt;SoftSkill&gt;Interesse an klassischer Musik&lt;/SoftSkill&gt; und &lt;SoftSkill_C&gt;weiteren Musikgenres•&lt;/SoftSkill_C&gt; &lt;SoftSkill&gt;Freude am Verfassen zielgruppenspezifischer Texte•&lt;/SoftSkill&gt; &lt;SoftSkill_C&gt;Selbständiges&lt;/SoftSkill_C&gt;, &lt;SoftSkill_C&gt;zuverlässiges&lt;/SoftSkill_C&gt; und &lt;SoftSkill&gt;exaktes Arbeiten•&lt;/SoftSkill&gt; &lt;SoftSkill&gt;Organisationstalent•&lt;/SoftSkill&gt; &lt;SoftSkill&gt;Kommunikatives Auftreten&lt;/SoftSkill&gt;, &lt;SoftSkill&gt;Teamgeist•&lt;/SoftSkill&gt; Professioneller Umgang mit Office-Programmen\\n\\n</td>\n",
       "      <td>Ihre Stärken• Matura/angefangenes Studium im Bereich Marketing • Erste Berufserfahrung im Bereich Marketing und Grundkenntnisse von Produktionsabläufen der    Werbemittelproduktion von Vorteil• Interesse an klassischer Musik und weiteren Musikgenres• Freude am Verfassen zielgruppenspezifischer Texte• Selbständiges, zuverlässiges und exaktes Arbeiten• Organisationstalent• Kommunikatives Auftreten, Teamgeist• Professioneller Umgang mit Office-Programmen\\n\\n</td>\n",
       "      <td>46</td>\n",
       "      <td>1</td>\n",
       "      <td>2348</td>\n",
       "      <td>de</td>\n",
       "      <td>f5db770</td>\n",
       "      <td>Die Tonhalle-Gesellschaft Zürich AG ist Betreiberin des Tonhalle-Orchesters Zürich und Veranstalterin diverser Konzert- und Veranstaltungsserien. Unter der Leitung seines Music Directors Paavo Järvi gehört das Tonhalle-Orchester Zürich zu den führenden Orchestern Europas. Es arbeitet mit international gefeierten Gastdirigent*innen, Solist*innen und Komponist*innen zusammen.In Ergänzung zu den zahlreichen Konzerten in Zürich geht das Orchester auf internationale Tourneen und trägt den Ruf Zürichs als lebendige Musikstadt in renommierte Musikzentren der Welt hinaus.\\n\\nDie Tonhalle-Gesellschaft Zürich AG sucht per Mitte August eine*n PRAKTIKANT*IN MARKETING (50?60%)\\n\\nIhr Verantwortungsbereich• Unterstützung bei Marketing-Aktivitäten (Erstellung und Distribution von Flyern, Plakaten, Anzeigen, Bannern etc.)• Administrative Unterstützung bei der Planung und Durchführung von Events (auch vor Ort, inkl. Abendeinsätze) • Administrative Unterstützung Inserate (Koordination, Akquise, Rechnungsstellung)• Organisation und Betreuung von Promotion-Massnahmen (Koordination Einsatzorte und Mitarbeitende)• Mitarbeit bei der Betreuung des Clubs TOZzukunft für junge Leute bis 40 Jahre (Organisation von Events, Kommunikations-   massnahmen und Akquise-Aktionen)• Betreuung und Pflege von Partnerschaften• Betreuung CRM• Allgemeine administrative Aufgaben\\n\\nIhre Stärken• Matura/angefangenes Studium im Bereich Marketing • Erste Berufserfahrung im Bereich Marketing und Grundkenntnisse von Produktionsabläufen der    Werbemittelproduktion von Vorteil• Interesse an klassischer Musik und weiteren Musikgenres• Freude am Verfassen zielgruppenspezifischer Texte• Selbständiges, zuverlässiges und exaktes Arbeiten• Organisationstalent• Kommunikatives Auftreten, Teamgeist• Professioneller Umgang mit Office-Programmen\\n\\nWir bieten• Eine vielseitige und verantwortungsvolle Herausforderung• Eine sehr selbständige Aufgabe• Offenes und hilfsbereites Team• Ein interessantes, lebendiges und vielfältiges Arbeitsumfeld mit Arbeitsplatz im Herzen von Zürich• Einblick in eine renommierte Kulturinstitution • Vergütung des Praktikums plus Freikarten für Konzerte des Tonhalle-Orchesters Zürich\\n\\nIhre Bewerbung mit den üblichen Unterlagen senden Sie bitte bis spätestens 30. Mai 2021 an:Michaela Braun, Leitung Marketing &amp; Kommunikation; michaela.braun@tonhalle.c</td>\n",
       "    </tr>\n",
       "    <tr>\n",
       "      <th>1</th>\n",
       "      <td>sjmm_qua-2-02-2021-06-02853-1-000018483</td>\n",
       "      <td>2021</td>\n",
       "      <td>2021-06-01</td>\n",
       "      <td>Für unsere Gastronomie am Standort Baar-Inwil suchen wir per 1. Juli 2021 oder nach Vereinbarung eine &lt;SoftSkill_C&gt;freundliche&lt;/SoftSkill_C&gt;, &lt;SoftSkill_C&gt;zuverlässige&lt;/SoftSkill_C&gt; und &lt;SoftSkill&gt;aufmerksame Persönlichkeit&lt;/SoftSkill&gt; als\\nSachbearbeiterin/Sachbearbeiter Gastronomie 50%\\nUntere Rainstrasse 31, 6340 Baar\\nAufgaben\\n\\n\\t</td>\n",
       "      <td>Für unsere Gastronomie am Standort Baar-Inwil suchen wir per 1. Juli 2021 oder nach Vereinbarung eine freundliche, zuverlässige und aufmerksame Persönlichkeit als\\nSachbearbeiterin/Sachbearbeiter Gastronomie 50%\\nUntere Rainstrasse 31, 6340 Baar\\nAufgaben\\n\\n\\t</td>\n",
       "      <td>31</td>\n",
       "      <td>1</td>\n",
       "      <td>1130</td>\n",
       "      <td>de</td>\n",
       "      <td>f5db770</td>\n",
       "      <td>Sachbearbeiterin/Sachbearbeiter Gastronomie 50%\\n\\nFür unsere Gastronomie am Standort Baar-Inwil suchen wir per 1. Juli 2021 oder nach Vereinbarung eine freundliche, zuverlässige und aufmerksame Persönlichkeit als\\nSachbearbeiterin/Sachbearbeiter Gastronomie 50%\\nUntere Rainstrasse 31, 6340 Baar\\nAufgaben\\n\\n\\tErste Anlaufstelle für externe Besucherinnen und Besucher\\n\\tOrganisation von Anlässen\\n\\tUnterstützung und Entlastung der Abteilungsleitung Gastronomie\\n\\tErstellen von Offerten und Rechnungen\\n\\tUnterstützung der Teams bei Anlass- und Angebotsplanungen\\n\\tSicherstellung eines reibungslosen Informationsflusses abteilungsintern und abteilungsübergreifend\\n\\tVerfassen von Sitzungsprotokollen und Verkaufskonzepten\\n\\tUnterstützung in unseren Gastronomiebetrieben bei Ausfällen\\n\\nProfil\\n\\n\\tAbgeschlossene kaufmännische Grundausbildung\\n\\tMehrjährige Erfahrung in der Gastronomie\\n\\tHohe Dienstleistungsqualität, Flexibilität sowie exakte Arbeitsweise\\n\\tDifferenzierte mündliche und schriftliche Ausdrucksweise in Deutsch\\n\\tGute PC-Anwenderkenntnisse (MS-Office), Abacus-Erfahrung von Vorteil\\n\\nKontakt\\nCéline Cudré\\nSachbearbeiterin HR\\n041 781 64 99</td>\n",
       "    </tr>\n",
       "    <tr>\n",
       "      <th>2</th>\n",
       "      <td>sjmm_qua-2-02-2021-06-02853-1-000018486</td>\n",
       "      <td>2021</td>\n",
       "      <td>2021-06-01</td>\n",
       "      <td>Für unsere Gärtnerei im Lassalle-Haus in Edlibach (Menzingen) suchen wir per 1. Juni 2021 oder nach Vereinbarung eine &lt;SoftSkill_C&gt;dienstleistungsorientierte&lt;/SoftSkill_C&gt;, &lt;SoftSkill_C&gt;zuverlässige&lt;/SoftSkill_C&gt; und &lt;SoftSkill&gt;teamfähige Persönlichkeit&lt;/SoftSkill&gt; als\\nArbeitsagogin/Arbeitsagoge 70-80%\\nSchönbrunn 3, 6313 Edlibach\\nAufgaben\\n\\n\\t</td>\n",
       "      <td>Für unsere Gärtnerei im Lassalle-Haus in Edlibach (Menzingen) suchen wir per 1. Juni 2021 oder nach Vereinbarung eine dienstleistungsorientierte, zuverlässige und teamfähige Persönlichkeit als\\nArbeitsagogin/Arbeitsagoge 70-80%\\nSchönbrunn 3, 6313 Edlibach\\nAufgaben\\n\\n\\t</td>\n",
       "      <td>31</td>\n",
       "      <td>1</td>\n",
       "      <td>1137</td>\n",
       "      <td>de</td>\n",
       "      <td>f5db770</td>\n",
       "      <td>Für unsere Gärtnerei im Lassalle-Haus in Edlibach (Menzingen) suchen wir per 1. Juni 2021 oder nach Vereinbarung eine dienstleistungsorientierte, zuverlässige und teamfähige Persönlichkeit als\\nArbeitsagogin/Arbeitsagoge 70-80%\\nSchönbrunn 3, 6313 Edlibach\\nAufgaben\\n\\n\\tBegleiten und Betreuen der Klientinnen und Klienten in ihrer täglichen Arbeit\\n\\tVerantwortlich für die Ausbildung der PrA-Lernenden\\n\\tAnbau und Ernte der Bewirtschaftungsfläche: Gemüse, Kräuter, Beeren, Blumen (Hauptaufgabe Gemüsebau)\\n\\tAnzucht von Jungpflanzen\\n\\tVerkaufsunterstützung der Gartenprodukte\\n\\tEinhalten der Arbeitssicherheit\\n\\tZusammenarbeit mit Angehörigen, rechtlichen Vertretern und externen Fachstellen\\n\\tAdministrative und organisatorische Arbeiten\\n\\nProfil\\n\\n\\tAbgeschlossene Weiterbildung in der Arbeitsagogik oder vergleichbare Ausbildung\\n\\tAbgeschlossene Ausbildung als Gärtnerin/Gärtner EFZ\\n\\tMehrjährige Berufserfahrung\\n\\tGewandte mündliche und schriftliche Ausdrucksweise in Deutsch\\n\\tGute PC-Anwenderkenntnisse (Outlook, Word, Excel)\\n\\tBereitschaft zu sporadischen Wochenendeinsätzen\\n\\tFahrausweis Kat. B\\n\\nKontakt\\nCéline Cudré\\nSachbearbeiterin HR\\n041 781 64 99</td>\n",
       "    </tr>\n",
       "    <tr>\n",
       "      <th>3</th>\n",
       "      <td>sjmm_qua-2-02-2021-06-02853-1-000018487</td>\n",
       "      <td>2021</td>\n",
       "      <td>2021-06-01</td>\n",
       "      <td>Volljährig und im Besitz einer IV-(Teil-)Rente (bitte der Bewerbung Nachweis beilegen)\\n\\t&lt;SoftSkill&gt;Robuste körperliche Verfassung&lt;/SoftSkill&gt; und &lt;SoftSkill&gt;Fähigkeit, feinmotorische Arbeiten auszuführen&lt;/SoftSkill&gt;\\n\\t&lt;SoftSkill&gt;Gepflegtes Auftreten&lt;/SoftSkill&gt;\\n\\t&lt;SoftSkill_C&gt;Team-&lt;/SoftSkill_C&gt; und &lt;SoftSkill&gt;praktische Lernfähigkeit&lt;/SoftSkill&gt;\\n\\tGute Deutschkenntnisse\\n\\n</td>\n",
       "      <td>Volljährig und im Besitz einer IV-(Teil-)Rente (bitte der Bewerbung Nachweis beilegen)\\n\\tRobuste körperliche Verfassung und Fähigkeit, feinmotorische Arbeiten auszuführen\\n\\tGepflegtes Auftreten\\n\\tTeam- und praktische Lernfähigkeit\\n\\tGute Deutschkenntnisse\\n\\n</td>\n",
       "      <td>27</td>\n",
       "      <td>1</td>\n",
       "      <td>1052</td>\n",
       "      <td>de</td>\n",
       "      <td>f5db770</td>\n",
       "      <td>Für unsere Abteilungen Hygiene und Verpackung, in der Produktionsstätte Bösch in Hünenberg, suchen wir per sofort oder nach Vereinbarung je\\nMitarbeitende Hygiene/Verpackung 50 - 100% (mit IV-Rente)\\nBösch 57, 6330 Hünenberg\\nAufgaben\\n\\n\\tProduzieren und Trocknen von Teigwaren und getrockneten Früchten\\n\\tAbwägen und Verpacken von Hygieneartikeln und Lebensmitteln\\n\\tVerpacken von Werbe- und Geschäftsdokumenten sowie Abstimmungsunterlagen\\n\\tKonfektionieren von Unterlagen, Mustern, Ordnern, Mappen\\n\\tVerpacken von spezifischen Fakturen sowie personifizierten Mailings\\n\\tLabeln von Mustern, Flyern, Beilagen und anderen Werbeträgern\\n\\tSortieren, aufbereiten und verpacken von Katalogen\\n\\tVerpacken und Kommissionieren von unterschiedlichsten Materialien\\n\\nProfil\\n\\n\\tVolljährig und im Besitz einer IV-(Teil-)Rente (bitte der Bewerbung Nachweis beilegen)\\n\\tRobuste körperliche Verfassung und Fähigkeit, feinmotorische Arbeiten auszuführen\\n\\tGepflegtes Auftreten\\n\\tTeam- und praktische Lernfähigkeit\\n\\tGute Deutschkenntnisse\\n\\nKontakt\\nMoreno Cararra\\nJob Coach\\n041 781 63 63</td>\n",
       "    </tr>\n",
       "    <tr>\n",
       "      <th>4</th>\n",
       "      <td>sjmm_qua-2-02-2021-06-02853-1-000018488</td>\n",
       "      <td>2021</td>\n",
       "      <td>2021-06-01</td>\n",
       "      <td>Abgeschlossene Berufsausbildung oder Matura\\n\\t&lt;SoftSkill_C&gt;Kreatives&lt;/SoftSkill_C&gt; und &lt;SoftSkill&gt;handwerkliches Geschick&lt;/SoftSkill&gt;\\n\\t&lt;SoftSkill&gt;Flair im Umgang mit Menschen mit einer Beeinträchtigung&lt;/SoftSkill&gt;\\n\\tGute PC-Anwenderkenntnisse (MS Office)\\n\\n</td>\n",
       "      <td>Abgeschlossene Berufsausbildung oder Matura\\n\\tKreatives und handwerkliches Geschick\\n\\tFlair im Umgang mit Menschen mit einer Beeinträchtigung\\n\\tGute PC-Anwenderkenntnisse (MS Office)\\n\\n</td>\n",
       "      <td>20</td>\n",
       "      <td>1</td>\n",
       "      <td>794</td>\n",
       "      <td>de</td>\n",
       "      <td>f5db770</td>\n",
       "      <td>Für unsere Abteilung Handwerk &amp; Kunst, an unserem Standort Baar-Inwil, suchen wir per\\n1. August 2021 für 6 Monate zwei engagierte Personen für ein\\nPraktikum 100%\\nUntere Rainstrasse 31, 6340 Baar\\nAufgaben\\n\\n\\tUnterstützen und Begleiten einer Gruppe von erwachsenen Menschen mit einer psychischen, geistigen und/oder körperlichen Beeinträchtigung\\n\\tMithelfen beim Herstellen von marktfähigen Produkten mit verschiedensten Materialien wie Papier, Holz, Ton, Textil\\n\\tMithelfen beim Bearbeiten von Kundenaufträgen mit und durch die Klientinnen und Klienten\\n\\nProfil\\n\\n\\tAbgeschlossene Berufsausbildung oder Matura\\n\\tKreatives und handwerkliches Geschick\\n\\tFlair im Umgang mit Menschen mit einer Beeinträchtigung\\n\\tGute PC-Anwenderkenntnisse (MS Office)\\n\\nKontakt\\nCéline Cudré\\nSachbearbeiterin HR\\n041 781 64 99</td>\n",
       "    </tr>\n",
       "    <tr>\n",
       "      <th>5</th>\n",
       "      <td>sjmm_qua-2-02-2021-06-02854-1-000018490</td>\n",
       "      <td>2021</td>\n",
       "      <td>2021-06-01</td>\n",
       "      <td>Masterabschluss in Elektrotechnik, idealerweise mit Promotion\\n\\tFundierte Kenntnisse und einen praxisorientierten Leistungsausweis (Zusammenarbeit mit der Industrie) im Bereich der Hochfrequenz- und Antennentechnik\\n\\t&lt;SoftSkill&gt;Breites Netzwerk im industriellen Umfeld in der Schweiz&lt;/SoftSkill&gt;\\n\\tFührungserfahrung und &lt;SoftSkill&gt;-kompetenz&lt;/SoftSkill&gt;\\n\\t&lt;SoftSkill_C&gt;Fähigkeit&lt;/SoftSkill_C&gt; und &lt;SoftSkill&gt;Bereitschaft Wissen und Praxiserfahrung an Studierende weiterzugeben&lt;/SoftSkill&gt;\\n\\tExzellente Deutsch- und Englischkenntnisse sowie Bereitschaft in beiden Sprachen zu unterrichten\\n\\n</td>\n",
       "      <td>Masterabschluss in Elektrotechnik, idealerweise mit Promotion\\n\\tFundierte Kenntnisse und einen praxisorientierten Leistungsausweis (Zusammenarbeit mit der Industrie) im Bereich der Hochfrequenz- und Antennentechnik\\n\\tBreites Netzwerk im industriellen Umfeld in der Schweiz\\n\\tFührungserfahrung und -kompetenz\\n\\tFähigkeit und Bereitschaft Wissen und Praxiserfahrung an Studierende weiterzugeben\\n\\tExzellente Deutsch- und Englischkenntnisse sowie Bereitschaft in beiden Sprachen zu unterrichten\\n\\n</td>\n",
       "      <td>53</td>\n",
       "      <td>1</td>\n",
       "      <td>2534</td>\n",
       "      <td>de</td>\n",
       "      <td>f5db770</td>\n",
       "      <td>Professor/in für Antenna and RF Engineering (100%)\\n\\nAus Drei wird Eins. Die OST – Ostschweizer Fachhochschule ist die gemeinsame Weiterführung der FHS St.Gallen, HSR Rapperswil und NTB Buchs. Wir sind an den Standorten St.Gallen, Buchs und Rapperswil zu Hause, lehren auf Bachelor- und Masterstufe, bieten Weiterbildungen und Dienstleistungen an und forschen anwendungsorientiert und praxisnah. Wir sind am Puls des Lebens, in der Mitte der Gesellschaft und im Dialog mit Lehre, Forschung und Wirtschaft.\\n\\nDas ICOM Institute for Communication Systems ist in der Hochschullehre wie in angewandter Forschung und Entwicklung erfolgreich. Wir suchen per 1. September 2021 für den Campus Rapperswil Sie als\\n\\nProfessor/in für Antenna and RF Engineering (100%)\\n\\nSie sind im Departement Technik der OST direkt dem Institutsleiter des Instituts ICOM in Rapperswil unterstellt und führen ein Team von wissenschaftlichen Mitarbeitenden. Fachlich vertreten Sie Ihr Themengebiet in angewandter Forschung und Entwicklung sowie in der Hochschullehre und entwickeln es weiter.\\nIhre Aufgaben:\\n\\n\\tLehre auf Bachelorstufe im Studiengang Elektrotechnik sowie auf Masterstufe auf dem Gebiet der Hochfrequenztechnik\\n\\tBetreuung von Studien-, Bachelor- und Masterarbeiten\\n\\tLeitung und Bearbeitung fremdfinanzierter Forschungs- und Entwicklungsprojekte sowie Fähigkeit und Bereitschaft für die Akquisition von Drittmitteln\\n\\nIhre Qualifikation:\\n\\n\\tMasterabschluss in Elektrotechnik, idealerweise mit Promotion\\n\\tFundierte Kenntnisse und einen praxisorientierten Leistungsausweis (Zusammenarbeit mit der Industrie) im Bereich der Hochfrequenz- und Antennentechnik\\n\\tBreites Netzwerk im industriellen Umfeld in der Schweiz\\n\\tFührungserfahrung und -kompetenz\\n\\tFähigkeit und Bereitschaft Wissen und Praxiserfahrung an Studierende weiterzugeben\\n\\tExzellente Deutsch- und Englischkenntnisse sowie Bereitschaft in beiden Sprachen zu unterrichten\\n\\nWir bieten:\\n\\n\\tAbwechslungsreiche und verantwortungsvolle Funktion am Puls der Wissenschaft und in enger Zusammenarbeit mit der Industrie\\n\\tFreiraum für persönliche Initiative\\n\\tZentrale Lage direkt am Zürichsee beim Bahnhof Rapperswil\\n\\nHaben wir Ihr Interesse geweckt und verfügen Sie über die gewünschte Qualifikation? Dann freuen wir uns auf Ihre Bewerbung bis spätestens 4. Juni 2021 über unser Online-Tool (jobs-ost.ch). Weitere Auskünfte erteilen Ihnen Prof. Dr. Heinz Mathis, Institutsleiter ICOM, unter +41 58 257 45 95, [email] oder Prof. Reto Bonderer, Studiengangleiter Elektrotechnik, unter +41 58 257 45 16, [email].</td>\n",
       "    </tr>\n",
       "    <tr>\n",
       "      <th>6</th>\n",
       "      <td>sjmm_qua-2-02-2021-06-02854-1-000018492</td>\n",
       "      <td>2021</td>\n",
       "      <td>2021-06-01</td>\n",
       "      <td>\\n\\t&lt;SoftSkill&gt;Begeisterung für das Tätigkeitsfeld zwischen Antriebstechnik, Echtzeitkommunikation&lt;/SoftSkill&gt; und Robotik\\n\\tBreites Netzwerk im industriellen Umfeld in der Schweiz oder dem nahen Ausland\\n\\tFührungserfahrung und &lt;SoftSkill&gt;-kompetenz&lt;/SoftSkill&gt;\\n\\t&lt;SoftSkill_C&gt;Fähigkeit&lt;/SoftSkill_C&gt; und &lt;SoftSkill&gt;Bereitschaft Wissen und Praxiserfahrung an Studierende weiterzugeben&lt;/SoftSkill&gt;\\n\\n</td>\n",
       "      <td>\\n\\tBegeisterung für das Tätigkeitsfeld zwischen Antriebstechnik, Echtzeitkommunikation und Robotik\\n\\tBreites Netzwerk im industriellen Umfeld in der Schweiz oder dem nahen Ausland\\n\\tFührungserfahrung und -kompetenz\\n\\tFähigkeit und Bereitschaft Wissen und Praxiserfahrung an Studierende weiterzugeben\\n\\n</td>\n",
       "      <td>33</td>\n",
       "      <td>1</td>\n",
       "      <td>2794</td>\n",
       "      <td>de</td>\n",
       "      <td>f5db770</td>\n",
       "      <td>Professor/in für Embedded Drives and Actuators (100%)\\n\\nAus Drei wird Eins. Die OST – Ostschweizer Fachhochschule ist die gemeinsame Weiterführung der FHS St.Gallen, HSR Rapperswil und NTB Buchs. Wir sind an den Standorten St.Gallen, Buchs und Rapperswil zu Hause, lehren auf Bachelor- und Masterstufe, bieten Weiterbildungen und Dienstleistungen an und forschen anwendungsorientiert und praxisnah. Wir sind am Puls des Lebens, in der Mitte der Gesellschaft und im Dialog mit Lehre, Forschung und Wirtschaft.\\n\\nDas IMES Institut für Mikroelektronik und Embedded Systems ist in der Hochschullehre wie in angewandter Forschung und Entwicklung erfolgreich. Wir suchen nach Vereinbarung für den Campus Rapperswil Sie als\\n\\nProfessor/in für Embedded Drives and Actuators (100%)\\n\\nSie sind im Departement Technik der OST direkt dem Institutsleiter des Instituts IMES in Rapperswil unterstellt und führen ein Team von wissenschaftlichen Mitarbeitenden. Fachlich vertreten Sie Ihr Themengebiet in angewandter Forschung und Entwicklung sowie in der Hochschullehre und entwickeln es weiter.\\nIhre Aufgaben:\\n\\n\\tLehre auf Bachelorstufe im Studiengang Elektrotechnik sowie auf Masterstufe im Bereich Electrical Engineering\\n\\tBetreuung von Studien-, Bachelor- und Masterarbeiten\\n\\tLeitung und Bearbeitung fremdfinanzierter Forschungs- und Entwicklungsprojekte sowie Fähigkeit und Bereitschaft für die Akquisition von Drittmitteln\\n\\tAufbau und Führung einer eigenen Forschungsgruppe\\n\\nIhre Qualifikation:\\n\\n\\tMasterabschluss in Elektrotechnik, vorzugsweise mit Promotion\\n\\tFundierte Kenntnisse mit mehrjährigem, praxisorientiertem Leistungsausweis im Bereich der elektrischen Antriebstechnik und der Aktorik\\n\\tFachwissen im Bereich EC-Motoren, sowie in der Umsetzung von Aktorik und verbraucherseitiger Leistungselektronik. Erfahrung mit modernen embedded Programmiersprachen und Echtzeitsystemen.\\n\\tBegeisterung für das Tätigkeitsfeld zwischen Antriebstechnik, Echtzeitkommunikation und Robotik\\n\\tBreites Netzwerk im industriellen Umfeld in der Schweiz oder dem nahen Ausland\\n\\tFührungserfahrung und -kompetenz\\n\\tFähigkeit und Bereitschaft Wissen und Praxiserfahrung an Studierende weiterzugeben\\n\\nWir bieten:\\n\\n\\tAbwechslungsreiche und verantwortungsvolle Funktion am Puls der Wissenschaft und in enger Zusammenarbeit mit der Industrie\\n\\tFreiraum für persönliche Initiative\\n\\tZentrale Lage direkt am Zürichsee beim Bahnhof Rapperswil\\n\\nHaben wir Ihr Interesse geweckt und verfügen Sie über die gewünschte Qualifikation? Dann freuen wir uns auf Ihre Bewerbung bis spätestens 12. August 2021 über unser Online-Tool (jobs-ost.ch). Weitere Auskünfte erteilen Ihnen Prof. Dr. Paul Zbinden, Institutsleiter IMES, unter +41 58 257 45 84, [email] oder Prof. Reto Bonderer, Studiengangleiter Elektrotechnik, unter +41 58 257 45 16, [email].</td>\n",
       "    </tr>\n",
       "    <tr>\n",
       "      <th>7</th>\n",
       "      <td>sjmm_qua-2-02-2021-06-02854-1-000018494</td>\n",
       "      <td>2021</td>\n",
       "      <td>2021-06-01</td>\n",
       "      <td>\\n\\tSie können den &lt;SoftSkill&gt;Studierenden berufsrelevante Handlungskompetenzen&lt;/SoftSkill&gt; mit &lt;SoftSkill&gt;Begeisterung&lt;/SoftSkill&gt; und &lt;SoftSkill&gt;didaktischem Geschick&lt;/SoftSkill&gt; vermitteln, z.B. in &lt;SoftSkill_C&gt;Rede-&lt;/SoftSkill_C&gt; und &lt;SoftSkill_C&gt;Gesprächsrhetorik&lt;/SoftSkill_C&gt;, in beruflichen Schreibprozessen, in Teamkommunikation, Führungskommunikation und der interkulturellen Zusammenarbeit.</td>\n",
       "      <td>\\n\\tSie können den Studierenden berufsrelevante Handlungskompetenzen mit Begeisterung und didaktischem Geschick vermitteln, z.B. in Rede- und Gesprächsrhetorik, in beruflichen Schreibprozessen, in Teamkommunikation, Führungskommunikation und der interkulturellen Zusammenarbeit.</td>\n",
       "      <td>27</td>\n",
       "      <td>1</td>\n",
       "      <td>3639</td>\n",
       "      <td>de</td>\n",
       "      <td>f5db770</td>\n",
       "      <td>Professor/in für Kommunikation und Interkulturelle Kompetenz (100%)\\n\\nAus Drei wird Eins. Die OST – Ostschweizer Fachhochschule ist die gemeinsame Weiterführung der FHS St.Gallen, HSR Rapperswil und NTB Buchs. Wir sind an den Standorten St.Gallen, Buchs und Rapperswil zu Hause, lehren auf Bachelor- und Masterstufe, bieten Weiterbildungen und Dienstleistungen an und forschen anwendungsorientiert und praxisnah. Wir sind am Puls des Lebens, in der Mitte der Gesellschaft und im Dialog mit Lehre, Forschung und Wirtschaft.\\n\\nIm ikik- Institut für Kommunikation und Interkulturelle Kompetenz betreiben wir angewandte\\nForschung und Entwicklung, Lehre und Weiterbildung zur berufsbezogenen mündlichen, schriftlichen und interkulturellen Kommunikation. Für den Campus Rapperswil-Jona suchen wir per 01. Februar 2022 Sie als\\n\\nProfessor/in für Kommunikation und Interkulturelle Kompetenz (100%)\\n\\nDas ikik- Institut für Kommunikation und Interkulturelle Kompetenz ist Teil der Fachabteilung Interdisziplinäre Querschnittsthemen. Als Professor/in für Kommunikation und Interkulturelle Kompetenz sind Sie in verantwortungsvoller Position in Lehre und Weiterbildung, in angewandter Forschung und Entwicklung sowie Dienstleistungen tätig und tragen zur inhaltlich-strategischen Entwicklung Ihres Fachgebiets, des Instituts und der Fachabteilung bei.\\nIhre Aufgaben:\\n\\n\\tSie lehren auf Bachelorstufe, vornehmlich in technischen, planerischen und wirtschaftsbezogenen Studiengängen, zu Themen der berufsbezogenen mündlichen, schriftlichen und/oder interkulturellen Kommunikation.\\n\\tSie engagieren sich in der anwendungsorientierten Forschung und Entwicklung im ikik.\\n\\tSie akquirieren und bearbeiten drittmittelfinanzierte Forschungs- und Entwicklungsprojekte.\\n\\tSie unterrichten in Weiterbildungsprogrammen der Hochschule und entwerfen attraktive, am Markt orientierte Weiterbildungsangebote.\\n\\nIhre Qualifikation:\\n\\n\\tSie verfügen über einen Hochschulabschluss in (angewandter) Psychologie oder einer verwandten Disziplin, nachweisbare Praxiserfahrung sowie idealerweise eine Promotion/PhD bzw. damit äquivalente Leistungen.\\n\\tSie können den Studierenden berufsrelevante Handlungskompetenzen mit Begeisterung und didaktischem Geschick vermitteln, z.B. in Rede- und Gesprächsrhetorik, in beruflichen Schreibprozessen, in Teamkommunikation, Führungskommunikation und der interkulturellen Zusammenarbeit.\\n\\tSie verfügen über einen erfolgreichen Leistungsausweis auf Weiterbildungsstufe.\\n\\tSie haben bereits erfolgreich Drittmittel für angewandte Forschungsprojekte akquiriert,\\n\\tdiese durchgeführt und wissenschaftlich anerkannte Publikationen veröffentlicht.\\n\\tSie sind bereit und in der Lage, Lehrveranstaltungen in englischer Sprache professionell durchzuführen und sich in einem internationalen Umfeld zu bewegen.\\n\\tSie zeigen Bereitschaft zum Engagement in der Instituts-, Fachabteilungs- und Hochschulentwicklung und zur interdisziplinären Zusammenarbeit.\\n\\nWir bieten:\\n\\n\\teinen Wirkungsbereich in einem dynamischen Umfeld mit modernster Infrastruktur.\\n\\teine abwechslungsreiche und anspruchsvolle Tätigkeit mit hoher Eigenverantwortung.\\n\\tFreiraum für persönliche Initiative.\\n\\tein engagiertes, interdisziplinäres Team mit ca. 20 Dozierenden.\\n\\tZentrale Lage beim Bahnhof Rapperswil und idyllisch gelegen direkt am Zürichsee.\\n\\nHaben wir Ihr Interesse geweckt und verfügen Sie über die gewünschte Qualifikation? Dann freuen wir uns auf Ihre Bewerbung bis spätestens 15. Mai 2021 über unser Online-Tool (jobs-ost.ch). Für weitere Auskünfte wenden Sie sich bitte per Mail an Stefan Kammhuber, Leiter ikik- Institut für Kommunikation und Interkulturelle Kompetenz, [email].</td>\n",
       "    </tr>\n",
       "    <tr>\n",
       "      <th>8</th>\n",
       "      <td>sjmm_qua-2-02-2021-06-02854-1-000018494</td>\n",
       "      <td>2021</td>\n",
       "      <td>2021-06-01</td>\n",
       "      <td>\\n\\tSie sind &lt;SoftSkill_C&gt;bereit&lt;/SoftSkill_C&gt; und &lt;SoftSkill&gt;in der Lage, Lehrveranstaltungen in englischer Sprache professionell durchzuführen&lt;/SoftSkill&gt; und &lt;SoftSkill&gt;sich in einem internationalen Umfeld zu bewegen&lt;/SoftSkill&gt;.</td>\n",
       "      <td>\\n\\tSie sind bereit und in der Lage, Lehrveranstaltungen in englischer Sprache professionell durchzuführen und sich in einem internationalen Umfeld zu bewegen.</td>\n",
       "      <td>21</td>\n",
       "      <td>1</td>\n",
       "      <td>3639</td>\n",
       "      <td>de</td>\n",
       "      <td>f5db770</td>\n",
       "      <td>Professor/in für Kommunikation und Interkulturelle Kompetenz (100%)\\n\\nAus Drei wird Eins. Die OST – Ostschweizer Fachhochschule ist die gemeinsame Weiterführung der FHS St.Gallen, HSR Rapperswil und NTB Buchs. Wir sind an den Standorten St.Gallen, Buchs und Rapperswil zu Hause, lehren auf Bachelor- und Masterstufe, bieten Weiterbildungen und Dienstleistungen an und forschen anwendungsorientiert und praxisnah. Wir sind am Puls des Lebens, in der Mitte der Gesellschaft und im Dialog mit Lehre, Forschung und Wirtschaft.\\n\\nIm ikik- Institut für Kommunikation und Interkulturelle Kompetenz betreiben wir angewandte\\nForschung und Entwicklung, Lehre und Weiterbildung zur berufsbezogenen mündlichen, schriftlichen und interkulturellen Kommunikation. Für den Campus Rapperswil-Jona suchen wir per 01. Februar 2022 Sie als\\n\\nProfessor/in für Kommunikation und Interkulturelle Kompetenz (100%)\\n\\nDas ikik- Institut für Kommunikation und Interkulturelle Kompetenz ist Teil der Fachabteilung Interdisziplinäre Querschnittsthemen. Als Professor/in für Kommunikation und Interkulturelle Kompetenz sind Sie in verantwortungsvoller Position in Lehre und Weiterbildung, in angewandter Forschung und Entwicklung sowie Dienstleistungen tätig und tragen zur inhaltlich-strategischen Entwicklung Ihres Fachgebiets, des Instituts und der Fachabteilung bei.\\nIhre Aufgaben:\\n\\n\\tSie lehren auf Bachelorstufe, vornehmlich in technischen, planerischen und wirtschaftsbezogenen Studiengängen, zu Themen der berufsbezogenen mündlichen, schriftlichen und/oder interkulturellen Kommunikation.\\n\\tSie engagieren sich in der anwendungsorientierten Forschung und Entwicklung im ikik.\\n\\tSie akquirieren und bearbeiten drittmittelfinanzierte Forschungs- und Entwicklungsprojekte.\\n\\tSie unterrichten in Weiterbildungsprogrammen der Hochschule und entwerfen attraktive, am Markt orientierte Weiterbildungsangebote.\\n\\nIhre Qualifikation:\\n\\n\\tSie verfügen über einen Hochschulabschluss in (angewandter) Psychologie oder einer verwandten Disziplin, nachweisbare Praxiserfahrung sowie idealerweise eine Promotion/PhD bzw. damit äquivalente Leistungen.\\n\\tSie können den Studierenden berufsrelevante Handlungskompetenzen mit Begeisterung und didaktischem Geschick vermitteln, z.B. in Rede- und Gesprächsrhetorik, in beruflichen Schreibprozessen, in Teamkommunikation, Führungskommunikation und der interkulturellen Zusammenarbeit.\\n\\tSie verfügen über einen erfolgreichen Leistungsausweis auf Weiterbildungsstufe.\\n\\tSie haben bereits erfolgreich Drittmittel für angewandte Forschungsprojekte akquiriert,\\n\\tdiese durchgeführt und wissenschaftlich anerkannte Publikationen veröffentlicht.\\n\\tSie sind bereit und in der Lage, Lehrveranstaltungen in englischer Sprache professionell durchzuführen und sich in einem internationalen Umfeld zu bewegen.\\n\\tSie zeigen Bereitschaft zum Engagement in der Instituts-, Fachabteilungs- und Hochschulentwicklung und zur interdisziplinären Zusammenarbeit.\\n\\nWir bieten:\\n\\n\\teinen Wirkungsbereich in einem dynamischen Umfeld mit modernster Infrastruktur.\\n\\teine abwechslungsreiche und anspruchsvolle Tätigkeit mit hoher Eigenverantwortung.\\n\\tFreiraum für persönliche Initiative.\\n\\tein engagiertes, interdisziplinäres Team mit ca. 20 Dozierenden.\\n\\tZentrale Lage beim Bahnhof Rapperswil und idyllisch gelegen direkt am Zürichsee.\\n\\nHaben wir Ihr Interesse geweckt und verfügen Sie über die gewünschte Qualifikation? Dann freuen wir uns auf Ihre Bewerbung bis spätestens 15. Mai 2021 über unser Online-Tool (jobs-ost.ch). Für weitere Auskünfte wenden Sie sich bitte per Mail an Stefan Kammhuber, Leiter ikik- Institut für Kommunikation und Interkulturelle Kompetenz, [email].</td>\n",
       "    </tr>\n",
       "    <tr>\n",
       "      <th>9</th>\n",
       "      <td>sjmm_qua-2-02-2021-06-02854-1-000018496</td>\n",
       "      <td>2021</td>\n",
       "      <td>2021-06-01</td>\n",
       "      <td>\\n\\t&lt;SoftSkill_C&gt;Interdisziplinäre Denk-&lt;/SoftSkill_C&gt; und &lt;SoftSkill_C&gt;Arbeitsweise&lt;/SoftSkill_C&gt; mit &lt;SoftSkill&gt;Freude an Forschungsarbeit&lt;/SoftSkill&gt;.</td>\n",
       "      <td>\\n\\tInterdisziplinäre Denk- und Arbeitsweise mit Freude an Forschungsarbeit.</td>\n",
       "      <td>8</td>\n",
       "      <td>1</td>\n",
       "      <td>2509</td>\n",
       "      <td>de</td>\n",
       "      <td>f5db770</td>\n",
       "      <td>Senior Scientist (w/m) im Kompetenzzentrum Produktionsmesstechnik mit Schwerpunkt Mikro- und Nanomesstechnik (100%)\\nscheme image\\nAus Drei wird Eins. Die OST – Ostschweizer Fachhochschule ist die gemeinsame Weiterführung der FHS St.Gallen, HSR Rapperswil und NTB Buchs. Wir sind an den Standorten St.Gallen, Buchs und Rapperswil zu Hause, lehren auf Bachelor- und Masterstufe, bieten Weiterbildungen und Dienstleistungen an und forschen anwendungsorientiert und praxisnah. Wir sind am Puls des Lebens, in der Mitte der Gesellschaft und im Dialog mit Lehre, Forschung und Wirtschaft.\\n\\nIm Rahmen des Ausbaus des Instituts Mikrotechnik und Photonik (IMP) suchen wir per sofort oder nach Vereinbarung einen\\n\\nSenior Scientist (w/m) im Kompetenzzentrum Produktionsmesstechnik mit Schwerpunkt Mikro- und Nanomesstechnik (100%)\\n\\nals dynamische Forschungspersönlichkeit zur Umsetzung unserer Strategie.\\nIhre Aufgaben:\\n\\n\\tSie verantworten die Akquisition und die Bearbeitung von Forschungs- und Entwicklungsprojekten in Kooperation mit der Industrie und mit Hochschulen.\\n\\tSie unterstützen in der Lehre und betreuen Studierende innerhalb von Übungen und Praktika sowie in Projekt- und Abschlussarbeiten.\\n\\tSie sind aktiv auf dem Gebiet Dienstleistungen und Weiterbildungen.\\n\\tSie verantworten zentrale Aufgaben im Zug des Auf- und Ausbaus der dimensionellen Mikro- und Nanomesstechnik.\\n\\nIhre Qualifikation:\\n\\n\\tAbgeschlossenes Hochschulstudium idealerweise in Systemtechnik oder Maschinenbau vorzugsweise mit Promotion.\\n\\tSehr gute Kenntnisse auf dem Gebiet der Koordinatenmesstechnik und Rauheitsmesstechnik idealerweise mit Schwerpunkt Mikro- und Nanomesstechnik.\\n\\tErfahrung im Bereich Forschung und Entwicklung an einer Hochschule und/oder in der Industrie.\\n\\tGute Kenntnisse der Geometrischen Produktspezifikation und Verifikation.\\n\\tGute Vernetzung mit Industrie und Forschungsinstitutionen.\\n\\tInterdisziplinäre Denk- und Arbeitsweise mit Freude an Forschungsarbeit.\\n\\tSehr gute Deutschkenntnisse, gute Englischkenntnisse.\\n\\nWir bieten:\\n\\n\\tWirkungsbereich in einem dynamischen Umfeld mit modernster Infrastruktur.\\n\\tAbwechslungsreiche und anspruchsvolle Tätigkeit mit hoher Eigenverantwortung an einer attraktiven Hochschule.\\n\\nHaben wir Ihr Interesse geweckt und verfügen Sie über die gewünschte Qualifikation? Dann freuen wir uns auf Ihre Bewerbung bis spätestens 15. Mai 2021 über unser Online-Tool (jobs-ost.ch). Für weitere Auskünfte wenden Sie sich bitte telefonisch an Prof. Dr.-Ing. Michael Marxer, unter +41 58 257 33 39.</td>\n",
       "    </tr>\n",
       "    <tr>\n",
       "      <th>10</th>\n",
       "      <td>sjmm_qua-2-02-2021-06-02854-1-000018498</td>\n",
       "      <td>2021</td>\n",
       "      <td>2021-06-01</td>\n",
       "      <td>Studium der Pflege oder Pflegewissenschaft\\n\\tGrundkenntnisse der qualitativen und quantitativen Forschungsmethoden\\n\\tgute Kenntnisse der Literaturrecherche in nationalen und internationalen Datenbanken\\n\\tgute Lesekenntnisse in Englisch, sehr gute Deutschkenntnisse in Sprache und Schrift\\n\\tsehr gute PC-Kenntnisse in den Anwendungen Word (z. B. Arbeiten mit Formatvorlagen), PowerPoint und Excel\\n\\t&lt;SoftSkill_C&gt;Fähigkeit&lt;/SoftSkill_C&gt;, &lt;SoftSkill_C&gt;selbstständig&lt;/SoftSkill_C&gt;, &lt;SoftSkill_C&gt;zuverlässig&lt;/SoftSkill_C&gt; und &lt;SoftSkill&gt;verantwortungsbewusst zu arbeiten&lt;/SoftSkill&gt;\\n\\n</td>\n",
       "      <td>Studium der Pflege oder Pflegewissenschaft\\n\\tGrundkenntnisse der qualitativen und quantitativen Forschungsmethoden\\n\\tgute Kenntnisse der Literaturrecherche in nationalen und internationalen Datenbanken\\n\\tgute Lesekenntnisse in Englisch, sehr gute Deutschkenntnisse in Sprache und Schrift\\n\\tsehr gute PC-Kenntnisse in den Anwendungen Word (z. B. Arbeiten mit Formatvorlagen), PowerPoint und Excel\\n\\tFähigkeit, selbstständig, zuverlässig und verantwortungsbewusst zu arbeiten\\n\\n</td>\n",
       "      <td>53</td>\n",
       "      <td>1</td>\n",
       "      <td>1670</td>\n",
       "      <td>de</td>\n",
       "      <td>f5db770</td>\n",
       "      <td>Praktikant/in\\n\\nDie FHS St.Gallen, die HSR Rapperswil und die NTB Buchs werden unter Beibehaltung der heutigen Standorte zur «OST – Ostschweizer Fachhochschule» zusammengeführt. Damit ergeben sich neue Perspektiven in der Bildungslandschaft Ostschweiz.\\n\\nDas Institut für Angewandte Pflegewissenschaft IPW-OST ist in den Bereichen evidenzbasierte Pflege, Demenz, onkologische Pflege, Palliative Care sowie Rehabilitation und Gesundheitsförderung in der Pflege tätig. Wir suchen fortlaufend für jeweils drei bis sechs Monate ein/e Praktikant/in.\\nIhre Aufgaben:\\n\\n\\tLiteraturrecherchen durchführen\\n\\tbei Datenerhebungs- und Datenanalyseverfahren mitarbeiten\\n\\tbei Projekten und Antragsverfahren mitarbeiten\\n\\nIhre Qualifikation:\\n\\n\\tStudium der Pflege oder Pflegewissenschaft\\n\\tGrundkenntnisse der qualitativen und quantitativen Forschungsmethoden\\n\\tgute Kenntnisse der Literaturrecherche in nationalen und internationalen Datenbanken\\n\\tgute Lesekenntnisse in Englisch, sehr gute Deutschkenntnisse in Sprache und Schrift\\n\\tsehr gute PC-Kenntnisse in den Anwendungen Word (z. B. Arbeiten mit Formatvorlagen), PowerPoint und Excel\\n\\tFähigkeit, selbstständig, zuverlässig und verantwortungsbewusst zu arbeiten\\n\\nWir bieten:\\n\\n\\tMitarbeit in einem Team mit klinischem Fokus\\n\\tMöglichkeiten zur fachlichen Weiterentwicklung\\n\\tfortschrittliche Arbeitsbedingungen\\n\\teinen Arbeitsort direkt beim Hauptbahnhof St.Gallen\\n\\nHaben wir Ihr Interesse geweckt und verfügen Sie über die gewünschte Qualifikation? Dann freuen wir uns auf Ihre Bewerbung über unser Online-Tool. Für weitere Auskünfte wenden Sie sich bitte telefonisch an Frau Prof. Dr. Heidrun Gattinger unter Tel. +41 58 257 15 22 oder [email].</td>\n",
       "    </tr>\n",
       "  </tbody>\n",
       "</table>\n",
       "</div>"
      ],
      "text/plain": [
       "                               job_ids_list  year_list quarter_list   \n",
       "0   sjmm_qua-2-02-2021-06-02852-1-000018481       2021   2021-06-01  \\\n",
       "1   sjmm_qua-2-02-2021-06-02853-1-000018483       2021   2021-06-01   \n",
       "2   sjmm_qua-2-02-2021-06-02853-1-000018486       2021   2021-06-01   \n",
       "3   sjmm_qua-2-02-2021-06-02853-1-000018487       2021   2021-06-01   \n",
       "4   sjmm_qua-2-02-2021-06-02853-1-000018488       2021   2021-06-01   \n",
       "5   sjmm_qua-2-02-2021-06-02854-1-000018490       2021   2021-06-01   \n",
       "6   sjmm_qua-2-02-2021-06-02854-1-000018492       2021   2021-06-01   \n",
       "7   sjmm_qua-2-02-2021-06-02854-1-000018494       2021   2021-06-01   \n",
       "8   sjmm_qua-2-02-2021-06-02854-1-000018494       2021   2021-06-01   \n",
       "9   sjmm_qua-2-02-2021-06-02854-1-000018496       2021   2021-06-01   \n",
       "10  sjmm_qua-2-02-2021-06-02854-1-000018498       2021   2021-06-01   \n",
       "\n",
       "                                                                                                                                                                                                                                                                                                                                                                                                                                                                                                                                                                                                                                                                                               entity_sent   \n",
       "0   Ihre Stärken• Matura/angefangenes Studium im Bereich Marketing • Erste Berufserfahrung im Bereich Marketing und Grundkenntnisse von Produktionsabläufen der    Werbemittelproduktion von Vorteil• <SoftSkill>Interesse an klassischer Musik</SoftSkill> und <SoftSkill_C>weiteren Musikgenres•</SoftSkill_C> <SoftSkill>Freude am Verfassen zielgruppenspezifischer Texte•</SoftSkill> <SoftSkill_C>Selbständiges</SoftSkill_C>, <SoftSkill_C>zuverlässiges</SoftSkill_C> und <SoftSkill>exaktes Arbeiten•</SoftSkill> <SoftSkill>Organisationstalent•</SoftSkill> <SoftSkill>Kommunikatives Auftreten</SoftSkill>, <SoftSkill>Teamgeist•</SoftSkill> Professioneller Umgang mit Office-Programmen\\n\\n  \\\n",
       "1                                                                                                                                                                                                                                                                                                                                                       Für unsere Gastronomie am Standort Baar-Inwil suchen wir per 1. Juli 2021 oder nach Vereinbarung eine <SoftSkill_C>freundliche</SoftSkill_C>, <SoftSkill_C>zuverlässige</SoftSkill_C> und <SoftSkill>aufmerksame Persönlichkeit</SoftSkill> als\\nSachbearbeiterin/Sachbearbeiter Gastronomie 50%\\nUntere Rainstrasse 31, 6340 Baar\\nAufgaben\\n\\n\\t   \n",
       "2                                                                                                                                                                                                                                                                                                                                            Für unsere Gärtnerei im Lassalle-Haus in Edlibach (Menzingen) suchen wir per 1. Juni 2021 oder nach Vereinbarung eine <SoftSkill_C>dienstleistungsorientierte</SoftSkill_C>, <SoftSkill_C>zuverlässige</SoftSkill_C> und <SoftSkill>teamfähige Persönlichkeit</SoftSkill> als\\nArbeitsagogin/Arbeitsagoge 70-80%\\nSchönbrunn 3, 6313 Edlibach\\nAufgaben\\n\\n\\t   \n",
       "3                                                                                                                                                                                                                                                                                                           Volljährig und im Besitz einer IV-(Teil-)Rente (bitte der Bewerbung Nachweis beilegen)\\n\\t<SoftSkill>Robuste körperliche Verfassung</SoftSkill> und <SoftSkill>Fähigkeit, feinmotorische Arbeiten auszuführen</SoftSkill>\\n\\t<SoftSkill>Gepflegtes Auftreten</SoftSkill>\\n\\t<SoftSkill_C>Team-</SoftSkill_C> und <SoftSkill>praktische Lernfähigkeit</SoftSkill>\\n\\tGute Deutschkenntnisse\\n\\n   \n",
       "4                                                                                                                                                                                                                                                                                                                                                                                                                                   Abgeschlossene Berufsausbildung oder Matura\\n\\t<SoftSkill_C>Kreatives</SoftSkill_C> und <SoftSkill>handwerkliches Geschick</SoftSkill>\\n\\t<SoftSkill>Flair im Umgang mit Menschen mit einer Beeinträchtigung</SoftSkill>\\n\\tGute PC-Anwenderkenntnisse (MS Office)\\n\\n   \n",
       "5                                                                                     Masterabschluss in Elektrotechnik, idealerweise mit Promotion\\n\\tFundierte Kenntnisse und einen praxisorientierten Leistungsausweis (Zusammenarbeit mit der Industrie) im Bereich der Hochfrequenz- und Antennentechnik\\n\\t<SoftSkill>Breites Netzwerk im industriellen Umfeld in der Schweiz</SoftSkill>\\n\\tFührungserfahrung und <SoftSkill>-kompetenz</SoftSkill>\\n\\t<SoftSkill_C>Fähigkeit</SoftSkill_C> und <SoftSkill>Bereitschaft Wissen und Praxiserfahrung an Studierende weiterzugeben</SoftSkill>\\n\\tExzellente Deutsch- und Englischkenntnisse sowie Bereitschaft in beiden Sprachen zu unterrichten\\n\\n   \n",
       "6                                                                                                                                                                                                                                                                                      \\n\\t<SoftSkill>Begeisterung für das Tätigkeitsfeld zwischen Antriebstechnik, Echtzeitkommunikation</SoftSkill> und Robotik\\n\\tBreites Netzwerk im industriellen Umfeld in der Schweiz oder dem nahen Ausland\\n\\tFührungserfahrung und <SoftSkill>-kompetenz</SoftSkill>\\n\\t<SoftSkill_C>Fähigkeit</SoftSkill_C> und <SoftSkill>Bereitschaft Wissen und Praxiserfahrung an Studierende weiterzugeben</SoftSkill>\\n\\n   \n",
       "7                                                                                                                                                                                                                                                                                        \\n\\tSie können den <SoftSkill>Studierenden berufsrelevante Handlungskompetenzen</SoftSkill> mit <SoftSkill>Begeisterung</SoftSkill> und <SoftSkill>didaktischem Geschick</SoftSkill> vermitteln, z.B. in <SoftSkill_C>Rede-</SoftSkill_C> und <SoftSkill_C>Gesprächsrhetorik</SoftSkill_C>, in beruflichen Schreibprozessen, in Teamkommunikation, Führungskommunikation und der interkulturellen Zusammenarbeit.   \n",
       "8                                                                                                                                                                                                                                                                                                                                                                                                                                                                 \\n\\tSie sind <SoftSkill_C>bereit</SoftSkill_C> und <SoftSkill>in der Lage, Lehrveranstaltungen in englischer Sprache professionell durchzuführen</SoftSkill> und <SoftSkill>sich in einem internationalen Umfeld zu bewegen</SoftSkill>.   \n",
       "9                                                                                                                                                                                                                                                                                                                                                                                                                                                                                                                                                \\n\\t<SoftSkill_C>Interdisziplinäre Denk-</SoftSkill_C> und <SoftSkill_C>Arbeitsweise</SoftSkill_C> mit <SoftSkill>Freude an Forschungsarbeit</SoftSkill>.   \n",
       "10                                                                                              Studium der Pflege oder Pflegewissenschaft\\n\\tGrundkenntnisse der qualitativen und quantitativen Forschungsmethoden\\n\\tgute Kenntnisse der Literaturrecherche in nationalen und internationalen Datenbanken\\n\\tgute Lesekenntnisse in Englisch, sehr gute Deutschkenntnisse in Sprache und Schrift\\n\\tsehr gute PC-Kenntnisse in den Anwendungen Word (z. B. Arbeiten mit Formatvorlagen), PowerPoint und Excel\\n\\t<SoftSkill_C>Fähigkeit</SoftSkill_C>, <SoftSkill_C>selbstständig</SoftSkill_C>, <SoftSkill_C>zuverlässig</SoftSkill_C> und <SoftSkill>verantwortungsbewusst zu arbeiten</SoftSkill>\\n\\n   \n",
       "\n",
       "                                                                                                                                                                                                                                                                                                                                                                                                                                                                                                    actual_sentence_list   \n",
       "0                                            Ihre Stärken• Matura/angefangenes Studium im Bereich Marketing • Erste Berufserfahrung im Bereich Marketing und Grundkenntnisse von Produktionsabläufen der    Werbemittelproduktion von Vorteil• Interesse an klassischer Musik und weiteren Musikgenres• Freude am Verfassen zielgruppenspezifischer Texte• Selbständiges, zuverlässiges und exaktes Arbeiten• Organisationstalent• Kommunikatives Auftreten, Teamgeist• Professioneller Umgang mit Office-Programmen\\n\\n  \\\n",
       "1                                                                                                                                                                                                                                                  Für unsere Gastronomie am Standort Baar-Inwil suchen wir per 1. Juli 2021 oder nach Vereinbarung eine freundliche, zuverlässige und aufmerksame Persönlichkeit als\\nSachbearbeiterin/Sachbearbeiter Gastronomie 50%\\nUntere Rainstrasse 31, 6340 Baar\\nAufgaben\\n\\n\\t   \n",
       "2                                                                                                                                                                                                                                       Für unsere Gärtnerei im Lassalle-Haus in Edlibach (Menzingen) suchen wir per 1. Juni 2021 oder nach Vereinbarung eine dienstleistungsorientierte, zuverlässige und teamfähige Persönlichkeit als\\nArbeitsagogin/Arbeitsagoge 70-80%\\nSchönbrunn 3, 6313 Edlibach\\nAufgaben\\n\\n\\t   \n",
       "3                                                                                                                                                                                                                                                Volljährig und im Besitz einer IV-(Teil-)Rente (bitte der Bewerbung Nachweis beilegen)\\n\\tRobuste körperliche Verfassung und Fähigkeit, feinmotorische Arbeiten auszuführen\\n\\tGepflegtes Auftreten\\n\\tTeam- und praktische Lernfähigkeit\\n\\tGute Deutschkenntnisse\\n\\n   \n",
       "4                                                                                                                                                                                                                                                                                                                          Abgeschlossene Berufsausbildung oder Matura\\n\\tKreatives und handwerkliches Geschick\\n\\tFlair im Umgang mit Menschen mit einer Beeinträchtigung\\n\\tGute PC-Anwenderkenntnisse (MS Office)\\n\\n   \n",
       "5   Masterabschluss in Elektrotechnik, idealerweise mit Promotion\\n\\tFundierte Kenntnisse und einen praxisorientierten Leistungsausweis (Zusammenarbeit mit der Industrie) im Bereich der Hochfrequenz- und Antennentechnik\\n\\tBreites Netzwerk im industriellen Umfeld in der Schweiz\\n\\tFührungserfahrung und -kompetenz\\n\\tFähigkeit und Bereitschaft Wissen und Praxiserfahrung an Studierende weiterzugeben\\n\\tExzellente Deutsch- und Englischkenntnisse sowie Bereitschaft in beiden Sprachen zu unterrichten\\n\\n   \n",
       "6                                                                                                                                                                                                    \\n\\tBegeisterung für das Tätigkeitsfeld zwischen Antriebstechnik, Echtzeitkommunikation und Robotik\\n\\tBreites Netzwerk im industriellen Umfeld in der Schweiz oder dem nahen Ausland\\n\\tFührungserfahrung und -kompetenz\\n\\tFähigkeit und Bereitschaft Wissen und Praxiserfahrung an Studierende weiterzugeben\\n\\n   \n",
       "7                                                                                                                                                                                                                                 \\n\\tSie können den Studierenden berufsrelevante Handlungskompetenzen mit Begeisterung und didaktischem Geschick vermitteln, z.B. in Rede- und Gesprächsrhetorik, in beruflichen Schreibprozessen, in Teamkommunikation, Führungskommunikation und der interkulturellen Zusammenarbeit.   \n",
       "8                                                                                                                                                                                                                                                                                                                                                        \\n\\tSie sind bereit und in der Lage, Lehrveranstaltungen in englischer Sprache professionell durchzuführen und sich in einem internationalen Umfeld zu bewegen.   \n",
       "9                                                                                                                                                                                                                                                                                                                                                                                                                                           \\n\\tInterdisziplinäre Denk- und Arbeitsweise mit Freude an Forschungsarbeit.   \n",
       "10                    Studium der Pflege oder Pflegewissenschaft\\n\\tGrundkenntnisse der qualitativen und quantitativen Forschungsmethoden\\n\\tgute Kenntnisse der Literaturrecherche in nationalen und internationalen Datenbanken\\n\\tgute Lesekenntnisse in Englisch, sehr gute Deutschkenntnisse in Sprache und Schrift\\n\\tsehr gute PC-Kenntnisse in den Anwendungen Word (z. B. Arbeiten mit Formatvorlagen), PowerPoint und Excel\\n\\tFähigkeit, selbstständig, zuverlässig und verantwortungsbewusst zu arbeiten\\n\\n   \n",
       "\n",
       "    tokens_in_sent_list  text_valid_list  length_list language_list   \n",
       "0                    46                1         2348            de  \\\n",
       "1                    31                1         1130            de   \n",
       "2                    31                1         1137            de   \n",
       "3                    27                1         1052            de   \n",
       "4                    20                1          794            de   \n",
       "5                    53                1         2534            de   \n",
       "6                    33                1         2794            de   \n",
       "7                    27                1         3639            de   \n",
       "8                    21                1         3639            de   \n",
       "9                     8                1         2509            de   \n",
       "10                   53                1         1670            de   \n",
       "\n",
       "   pipeline_version_list   \n",
       "0                f5db770  \\\n",
       "1                f5db770   \n",
       "2                f5db770   \n",
       "3                f5db770   \n",
       "4                f5db770   \n",
       "5                f5db770   \n",
       "6                f5db770   \n",
       "7                f5db770   \n",
       "8                f5db770   \n",
       "9                f5db770   \n",
       "10               f5db770   \n",
       "\n",
       "                                                                                                                                                                                                                                                                                                                                                                                                                                                                                                                                                                                                                                                                                                                                                                                                                                                                                                                                                                                                                                                                                                                                                                                                                                                                                                                                                                                                                                                                                                                                                                                                                                                                                                                                                                                                                                                                                                                                                                                                                                                                                                                                                                                                                                                                                                                                                                                                                                                                                                                                                                                                                                                                                                                                                                                                                                                                                                                                                                                                                                                                                                                                                                                                                                                                                                                                                                                                                                                                                                                                                                                                                                                                                                                                                                                                                                     text_list  \n",
       "0                                                                                                                                                                                                                                                                                                                                                                                                                                                                                                                                                                                                                                                                                                                                                                                                                                                                                                                                                                                                                                                                                                                                                                                                                                                                                                                                                                                       Die Tonhalle-Gesellschaft Zürich AG ist Betreiberin des Tonhalle-Orchesters Zürich und Veranstalterin diverser Konzert- und Veranstaltungsserien. Unter der Leitung seines Music Directors Paavo Järvi gehört das Tonhalle-Orchester Zürich zu den führenden Orchestern Europas. Es arbeitet mit international gefeierten Gastdirigent*innen, Solist*innen und Komponist*innen zusammen.In Ergänzung zu den zahlreichen Konzerten in Zürich geht das Orchester auf internationale Tourneen und trägt den Ruf Zürichs als lebendige Musikstadt in renommierte Musikzentren der Welt hinaus.\\n\\nDie Tonhalle-Gesellschaft Zürich AG sucht per Mitte August eine*n PRAKTIKANT*IN MARKETING (50?60%)\\n\\nIhr Verantwortungsbereich• Unterstützung bei Marketing-Aktivitäten (Erstellung und Distribution von Flyern, Plakaten, Anzeigen, Bannern etc.)• Administrative Unterstützung bei der Planung und Durchführung von Events (auch vor Ort, inkl. Abendeinsätze) • Administrative Unterstützung Inserate (Koordination, Akquise, Rechnungsstellung)• Organisation und Betreuung von Promotion-Massnahmen (Koordination Einsatzorte und Mitarbeitende)• Mitarbeit bei der Betreuung des Clubs TOZzukunft für junge Leute bis 40 Jahre (Organisation von Events, Kommunikations-   massnahmen und Akquise-Aktionen)• Betreuung und Pflege von Partnerschaften• Betreuung CRM• Allgemeine administrative Aufgaben\\n\\nIhre Stärken• Matura/angefangenes Studium im Bereich Marketing • Erste Berufserfahrung im Bereich Marketing und Grundkenntnisse von Produktionsabläufen der    Werbemittelproduktion von Vorteil• Interesse an klassischer Musik und weiteren Musikgenres• Freude am Verfassen zielgruppenspezifischer Texte• Selbständiges, zuverlässiges und exaktes Arbeiten• Organisationstalent• Kommunikatives Auftreten, Teamgeist• Professioneller Umgang mit Office-Programmen\\n\\nWir bieten• Eine vielseitige und verantwortungsvolle Herausforderung• Eine sehr selbständige Aufgabe• Offenes und hilfsbereites Team• Ein interessantes, lebendiges und vielfältiges Arbeitsumfeld mit Arbeitsplatz im Herzen von Zürich• Einblick in eine renommierte Kulturinstitution • Vergütung des Praktikums plus Freikarten für Konzerte des Tonhalle-Orchesters Zürich\\n\\nIhre Bewerbung mit den üblichen Unterlagen senden Sie bitte bis spätestens 30. Mai 2021 an:Michaela Braun, Leitung Marketing & Kommunikation; michaela.braun@tonhalle.c  \n",
       "1                                                                                                                                                                                                                                                                                                                                                                                                                                                                                                                                                                                                                                                                                                                                                                                                                                                                                                                                                                                                                                                                                                                                                                                                                                                                                                                                                                                                                                                                                                                                                                                                                                                                                                                                                                                                                                                                                                                                                                                                                                                                                                                                                                                                                                                                                                                                                                                                                                                                                                                                                                                                                           Sachbearbeiterin/Sachbearbeiter Gastronomie 50%\\n\\nFür unsere Gastronomie am Standort Baar-Inwil suchen wir per 1. Juli 2021 oder nach Vereinbarung eine freundliche, zuverlässige und aufmerksame Persönlichkeit als\\nSachbearbeiterin/Sachbearbeiter Gastronomie 50%\\nUntere Rainstrasse 31, 6340 Baar\\nAufgaben\\n\\n\\tErste Anlaufstelle für externe Besucherinnen und Besucher\\n\\tOrganisation von Anlässen\\n\\tUnterstützung und Entlastung der Abteilungsleitung Gastronomie\\n\\tErstellen von Offerten und Rechnungen\\n\\tUnterstützung der Teams bei Anlass- und Angebotsplanungen\\n\\tSicherstellung eines reibungslosen Informationsflusses abteilungsintern und abteilungsübergreifend\\n\\tVerfassen von Sitzungsprotokollen und Verkaufskonzepten\\n\\tUnterstützung in unseren Gastronomiebetrieben bei Ausfällen\\n\\nProfil\\n\\n\\tAbgeschlossene kaufmännische Grundausbildung\\n\\tMehrjährige Erfahrung in der Gastronomie\\n\\tHohe Dienstleistungsqualität, Flexibilität sowie exakte Arbeitsweise\\n\\tDifferenzierte mündliche und schriftliche Ausdrucksweise in Deutsch\\n\\tGute PC-Anwenderkenntnisse (MS-Office), Abacus-Erfahrung von Vorteil\\n\\nKontakt\\nCéline Cudré\\nSachbearbeiterin HR\\n041 781 64 99  \n",
       "2                                                                                                                                                                                                                                                                                                                                                                                                                                                                                                                                                                                                                                                                                                                                                                                                                                                                                                                                                                                                                                                                                                                                                                                                                                                                                                                                                                                                                                                                                                                                                                                                                                                                                                                                                                                                                                                                                                                                                                                                                                                                                                                                                                                                                                                                                                                                                                                                                                                                                                                                                                                                                  Für unsere Gärtnerei im Lassalle-Haus in Edlibach (Menzingen) suchen wir per 1. Juni 2021 oder nach Vereinbarung eine dienstleistungsorientierte, zuverlässige und teamfähige Persönlichkeit als\\nArbeitsagogin/Arbeitsagoge 70-80%\\nSchönbrunn 3, 6313 Edlibach\\nAufgaben\\n\\n\\tBegleiten und Betreuen der Klientinnen und Klienten in ihrer täglichen Arbeit\\n\\tVerantwortlich für die Ausbildung der PrA-Lernenden\\n\\tAnbau und Ernte der Bewirtschaftungsfläche: Gemüse, Kräuter, Beeren, Blumen (Hauptaufgabe Gemüsebau)\\n\\tAnzucht von Jungpflanzen\\n\\tVerkaufsunterstützung der Gartenprodukte\\n\\tEinhalten der Arbeitssicherheit\\n\\tZusammenarbeit mit Angehörigen, rechtlichen Vertretern und externen Fachstellen\\n\\tAdministrative und organisatorische Arbeiten\\n\\nProfil\\n\\n\\tAbgeschlossene Weiterbildung in der Arbeitsagogik oder vergleichbare Ausbildung\\n\\tAbgeschlossene Ausbildung als Gärtnerin/Gärtner EFZ\\n\\tMehrjährige Berufserfahrung\\n\\tGewandte mündliche und schriftliche Ausdrucksweise in Deutsch\\n\\tGute PC-Anwenderkenntnisse (Outlook, Word, Excel)\\n\\tBereitschaft zu sporadischen Wochenendeinsätzen\\n\\tFahrausweis Kat. B\\n\\nKontakt\\nCéline Cudré\\nSachbearbeiterin HR\\n041 781 64 99  \n",
       "3                                                                                                                                                                                                                                                                                                                                                                                                                                                                                                                                                                                                                                                                                                                                                                                                                                                                                                                                                                                                                                                                                                                                                                                                                                                                                                                                                                                                                                                                                                                                                                                                                                                                                                                                                                                                                                                                                                                                                                                                                                                                                                                                                                                                                                                                                                                                                                                                                                                                                                                                                                                                                                                                                                           Für unsere Abteilungen Hygiene und Verpackung, in der Produktionsstätte Bösch in Hünenberg, suchen wir per sofort oder nach Vereinbarung je\\nMitarbeitende Hygiene/Verpackung 50 - 100% (mit IV-Rente)\\nBösch 57, 6330 Hünenberg\\nAufgaben\\n\\n\\tProduzieren und Trocknen von Teigwaren und getrockneten Früchten\\n\\tAbwägen und Verpacken von Hygieneartikeln und Lebensmitteln\\n\\tVerpacken von Werbe- und Geschäftsdokumenten sowie Abstimmungsunterlagen\\n\\tKonfektionieren von Unterlagen, Mustern, Ordnern, Mappen\\n\\tVerpacken von spezifischen Fakturen sowie personifizierten Mailings\\n\\tLabeln von Mustern, Flyern, Beilagen und anderen Werbeträgern\\n\\tSortieren, aufbereiten und verpacken von Katalogen\\n\\tVerpacken und Kommissionieren von unterschiedlichsten Materialien\\n\\nProfil\\n\\n\\tVolljährig und im Besitz einer IV-(Teil-)Rente (bitte der Bewerbung Nachweis beilegen)\\n\\tRobuste körperliche Verfassung und Fähigkeit, feinmotorische Arbeiten auszuführen\\n\\tGepflegtes Auftreten\\n\\tTeam- und praktische Lernfähigkeit\\n\\tGute Deutschkenntnisse\\n\\nKontakt\\nMoreno Cararra\\nJob Coach\\n041 781 63 63  \n",
       "4                                                                                                                                                                                                                                                                                                                                                                                                                                                                                                                                                                                                                                                                                                                                                                                                                                                                                                                                                                                                                                                                                                                                                                                                                                                                                                                                                                                                                                                                                                                                                                                                                                                                                                                                                                                                                                                                                                                                                                                                                                                                                                                                                                                                                                                                                                                                                                                                                                                                                                                                                                                                                                                                                                                                                                                                                                                                                                                                                                                        Für unsere Abteilung Handwerk & Kunst, an unserem Standort Baar-Inwil, suchen wir per\\n1. August 2021 für 6 Monate zwei engagierte Personen für ein\\nPraktikum 100%\\nUntere Rainstrasse 31, 6340 Baar\\nAufgaben\\n\\n\\tUnterstützen und Begleiten einer Gruppe von erwachsenen Menschen mit einer psychischen, geistigen und/oder körperlichen Beeinträchtigung\\n\\tMithelfen beim Herstellen von marktfähigen Produkten mit verschiedensten Materialien wie Papier, Holz, Ton, Textil\\n\\tMithelfen beim Bearbeiten von Kundenaufträgen mit und durch die Klientinnen und Klienten\\n\\nProfil\\n\\n\\tAbgeschlossene Berufsausbildung oder Matura\\n\\tKreatives und handwerkliches Geschick\\n\\tFlair im Umgang mit Menschen mit einer Beeinträchtigung\\n\\tGute PC-Anwenderkenntnisse (MS Office)\\n\\nKontakt\\nCéline Cudré\\nSachbearbeiterin HR\\n041 781 64 99  \n",
       "5                                                                                                                                                                                                                                                                                                                                                                                                                                                                                                                                                                                                                                                                                                                                                                                                                                                                                                                                                                                                                                                                                                                                                             Professor/in für Antenna and RF Engineering (100%)\\n\\nAus Drei wird Eins. Die OST – Ostschweizer Fachhochschule ist die gemeinsame Weiterführung der FHS St.Gallen, HSR Rapperswil und NTB Buchs. Wir sind an den Standorten St.Gallen, Buchs und Rapperswil zu Hause, lehren auf Bachelor- und Masterstufe, bieten Weiterbildungen und Dienstleistungen an und forschen anwendungsorientiert und praxisnah. Wir sind am Puls des Lebens, in der Mitte der Gesellschaft und im Dialog mit Lehre, Forschung und Wirtschaft.\\n\\nDas ICOM Institute for Communication Systems ist in der Hochschullehre wie in angewandter Forschung und Entwicklung erfolgreich. Wir suchen per 1. September 2021 für den Campus Rapperswil Sie als\\n\\nProfessor/in für Antenna and RF Engineering (100%)\\n\\nSie sind im Departement Technik der OST direkt dem Institutsleiter des Instituts ICOM in Rapperswil unterstellt und führen ein Team von wissenschaftlichen Mitarbeitenden. Fachlich vertreten Sie Ihr Themengebiet in angewandter Forschung und Entwicklung sowie in der Hochschullehre und entwickeln es weiter.\\nIhre Aufgaben:\\n\\n\\tLehre auf Bachelorstufe im Studiengang Elektrotechnik sowie auf Masterstufe auf dem Gebiet der Hochfrequenztechnik\\n\\tBetreuung von Studien-, Bachelor- und Masterarbeiten\\n\\tLeitung und Bearbeitung fremdfinanzierter Forschungs- und Entwicklungsprojekte sowie Fähigkeit und Bereitschaft für die Akquisition von Drittmitteln\\n\\nIhre Qualifikation:\\n\\n\\tMasterabschluss in Elektrotechnik, idealerweise mit Promotion\\n\\tFundierte Kenntnisse und einen praxisorientierten Leistungsausweis (Zusammenarbeit mit der Industrie) im Bereich der Hochfrequenz- und Antennentechnik\\n\\tBreites Netzwerk im industriellen Umfeld in der Schweiz\\n\\tFührungserfahrung und -kompetenz\\n\\tFähigkeit und Bereitschaft Wissen und Praxiserfahrung an Studierende weiterzugeben\\n\\tExzellente Deutsch- und Englischkenntnisse sowie Bereitschaft in beiden Sprachen zu unterrichten\\n\\nWir bieten:\\n\\n\\tAbwechslungsreiche und verantwortungsvolle Funktion am Puls der Wissenschaft und in enger Zusammenarbeit mit der Industrie\\n\\tFreiraum für persönliche Initiative\\n\\tZentrale Lage direkt am Zürichsee beim Bahnhof Rapperswil\\n\\nHaben wir Ihr Interesse geweckt und verfügen Sie über die gewünschte Qualifikation? Dann freuen wir uns auf Ihre Bewerbung bis spätestens 4. Juni 2021 über unser Online-Tool (jobs-ost.ch). Weitere Auskünfte erteilen Ihnen Prof. Dr. Heinz Mathis, Institutsleiter ICOM, unter +41 58 257 45 95, [email] oder Prof. Reto Bonderer, Studiengangleiter Elektrotechnik, unter +41 58 257 45 16, [email].  \n",
       "6                                                                                                                                                                                                                                                                                                                                                                                                                                                                                                                                                                                                                                                                                                                                                                                                                                                                                     Professor/in für Embedded Drives and Actuators (100%)\\n\\nAus Drei wird Eins. Die OST – Ostschweizer Fachhochschule ist die gemeinsame Weiterführung der FHS St.Gallen, HSR Rapperswil und NTB Buchs. Wir sind an den Standorten St.Gallen, Buchs und Rapperswil zu Hause, lehren auf Bachelor- und Masterstufe, bieten Weiterbildungen und Dienstleistungen an und forschen anwendungsorientiert und praxisnah. Wir sind am Puls des Lebens, in der Mitte der Gesellschaft und im Dialog mit Lehre, Forschung und Wirtschaft.\\n\\nDas IMES Institut für Mikroelektronik und Embedded Systems ist in der Hochschullehre wie in angewandter Forschung und Entwicklung erfolgreich. Wir suchen nach Vereinbarung für den Campus Rapperswil Sie als\\n\\nProfessor/in für Embedded Drives and Actuators (100%)\\n\\nSie sind im Departement Technik der OST direkt dem Institutsleiter des Instituts IMES in Rapperswil unterstellt und führen ein Team von wissenschaftlichen Mitarbeitenden. Fachlich vertreten Sie Ihr Themengebiet in angewandter Forschung und Entwicklung sowie in der Hochschullehre und entwickeln es weiter.\\nIhre Aufgaben:\\n\\n\\tLehre auf Bachelorstufe im Studiengang Elektrotechnik sowie auf Masterstufe im Bereich Electrical Engineering\\n\\tBetreuung von Studien-, Bachelor- und Masterarbeiten\\n\\tLeitung und Bearbeitung fremdfinanzierter Forschungs- und Entwicklungsprojekte sowie Fähigkeit und Bereitschaft für die Akquisition von Drittmitteln\\n\\tAufbau und Führung einer eigenen Forschungsgruppe\\n\\nIhre Qualifikation:\\n\\n\\tMasterabschluss in Elektrotechnik, vorzugsweise mit Promotion\\n\\tFundierte Kenntnisse mit mehrjährigem, praxisorientiertem Leistungsausweis im Bereich der elektrischen Antriebstechnik und der Aktorik\\n\\tFachwissen im Bereich EC-Motoren, sowie in der Umsetzung von Aktorik und verbraucherseitiger Leistungselektronik. Erfahrung mit modernen embedded Programmiersprachen und Echtzeitsystemen.\\n\\tBegeisterung für das Tätigkeitsfeld zwischen Antriebstechnik, Echtzeitkommunikation und Robotik\\n\\tBreites Netzwerk im industriellen Umfeld in der Schweiz oder dem nahen Ausland\\n\\tFührungserfahrung und -kompetenz\\n\\tFähigkeit und Bereitschaft Wissen und Praxiserfahrung an Studierende weiterzugeben\\n\\nWir bieten:\\n\\n\\tAbwechslungsreiche und verantwortungsvolle Funktion am Puls der Wissenschaft und in enger Zusammenarbeit mit der Industrie\\n\\tFreiraum für persönliche Initiative\\n\\tZentrale Lage direkt am Zürichsee beim Bahnhof Rapperswil\\n\\nHaben wir Ihr Interesse geweckt und verfügen Sie über die gewünschte Qualifikation? Dann freuen wir uns auf Ihre Bewerbung bis spätestens 12. August 2021 über unser Online-Tool (jobs-ost.ch). Weitere Auskünfte erteilen Ihnen Prof. Dr. Paul Zbinden, Institutsleiter IMES, unter +41 58 257 45 84, [email] oder Prof. Reto Bonderer, Studiengangleiter Elektrotechnik, unter +41 58 257 45 16, [email].  \n",
       "7   Professor/in für Kommunikation und Interkulturelle Kompetenz (100%)\\n\\nAus Drei wird Eins. Die OST – Ostschweizer Fachhochschule ist die gemeinsame Weiterführung der FHS St.Gallen, HSR Rapperswil und NTB Buchs. Wir sind an den Standorten St.Gallen, Buchs und Rapperswil zu Hause, lehren auf Bachelor- und Masterstufe, bieten Weiterbildungen und Dienstleistungen an und forschen anwendungsorientiert und praxisnah. Wir sind am Puls des Lebens, in der Mitte der Gesellschaft und im Dialog mit Lehre, Forschung und Wirtschaft.\\n\\nIm ikik- Institut für Kommunikation und Interkulturelle Kompetenz betreiben wir angewandte\\nForschung und Entwicklung, Lehre und Weiterbildung zur berufsbezogenen mündlichen, schriftlichen und interkulturellen Kommunikation. Für den Campus Rapperswil-Jona suchen wir per 01. Februar 2022 Sie als\\n\\nProfessor/in für Kommunikation und Interkulturelle Kompetenz (100%)\\n\\nDas ikik- Institut für Kommunikation und Interkulturelle Kompetenz ist Teil der Fachabteilung Interdisziplinäre Querschnittsthemen. Als Professor/in für Kommunikation und Interkulturelle Kompetenz sind Sie in verantwortungsvoller Position in Lehre und Weiterbildung, in angewandter Forschung und Entwicklung sowie Dienstleistungen tätig und tragen zur inhaltlich-strategischen Entwicklung Ihres Fachgebiets, des Instituts und der Fachabteilung bei.\\nIhre Aufgaben:\\n\\n\\tSie lehren auf Bachelorstufe, vornehmlich in technischen, planerischen und wirtschaftsbezogenen Studiengängen, zu Themen der berufsbezogenen mündlichen, schriftlichen und/oder interkulturellen Kommunikation.\\n\\tSie engagieren sich in der anwendungsorientierten Forschung und Entwicklung im ikik.\\n\\tSie akquirieren und bearbeiten drittmittelfinanzierte Forschungs- und Entwicklungsprojekte.\\n\\tSie unterrichten in Weiterbildungsprogrammen der Hochschule und entwerfen attraktive, am Markt orientierte Weiterbildungsangebote.\\n\\nIhre Qualifikation:\\n\\n\\tSie verfügen über einen Hochschulabschluss in (angewandter) Psychologie oder einer verwandten Disziplin, nachweisbare Praxiserfahrung sowie idealerweise eine Promotion/PhD bzw. damit äquivalente Leistungen.\\n\\tSie können den Studierenden berufsrelevante Handlungskompetenzen mit Begeisterung und didaktischem Geschick vermitteln, z.B. in Rede- und Gesprächsrhetorik, in beruflichen Schreibprozessen, in Teamkommunikation, Führungskommunikation und der interkulturellen Zusammenarbeit.\\n\\tSie verfügen über einen erfolgreichen Leistungsausweis auf Weiterbildungsstufe.\\n\\tSie haben bereits erfolgreich Drittmittel für angewandte Forschungsprojekte akquiriert,\\n\\tdiese durchgeführt und wissenschaftlich anerkannte Publikationen veröffentlicht.\\n\\tSie sind bereit und in der Lage, Lehrveranstaltungen in englischer Sprache professionell durchzuführen und sich in einem internationalen Umfeld zu bewegen.\\n\\tSie zeigen Bereitschaft zum Engagement in der Instituts-, Fachabteilungs- und Hochschulentwicklung und zur interdisziplinären Zusammenarbeit.\\n\\nWir bieten:\\n\\n\\teinen Wirkungsbereich in einem dynamischen Umfeld mit modernster Infrastruktur.\\n\\teine abwechslungsreiche und anspruchsvolle Tätigkeit mit hoher Eigenverantwortung.\\n\\tFreiraum für persönliche Initiative.\\n\\tein engagiertes, interdisziplinäres Team mit ca. 20 Dozierenden.\\n\\tZentrale Lage beim Bahnhof Rapperswil und idyllisch gelegen direkt am Zürichsee.\\n\\nHaben wir Ihr Interesse geweckt und verfügen Sie über die gewünschte Qualifikation? Dann freuen wir uns auf Ihre Bewerbung bis spätestens 15. Mai 2021 über unser Online-Tool (jobs-ost.ch). Für weitere Auskünfte wenden Sie sich bitte per Mail an Stefan Kammhuber, Leiter ikik- Institut für Kommunikation und Interkulturelle Kompetenz, [email].  \n",
       "8   Professor/in für Kommunikation und Interkulturelle Kompetenz (100%)\\n\\nAus Drei wird Eins. Die OST – Ostschweizer Fachhochschule ist die gemeinsame Weiterführung der FHS St.Gallen, HSR Rapperswil und NTB Buchs. Wir sind an den Standorten St.Gallen, Buchs und Rapperswil zu Hause, lehren auf Bachelor- und Masterstufe, bieten Weiterbildungen und Dienstleistungen an und forschen anwendungsorientiert und praxisnah. Wir sind am Puls des Lebens, in der Mitte der Gesellschaft und im Dialog mit Lehre, Forschung und Wirtschaft.\\n\\nIm ikik- Institut für Kommunikation und Interkulturelle Kompetenz betreiben wir angewandte\\nForschung und Entwicklung, Lehre und Weiterbildung zur berufsbezogenen mündlichen, schriftlichen und interkulturellen Kommunikation. Für den Campus Rapperswil-Jona suchen wir per 01. Februar 2022 Sie als\\n\\nProfessor/in für Kommunikation und Interkulturelle Kompetenz (100%)\\n\\nDas ikik- Institut für Kommunikation und Interkulturelle Kompetenz ist Teil der Fachabteilung Interdisziplinäre Querschnittsthemen. Als Professor/in für Kommunikation und Interkulturelle Kompetenz sind Sie in verantwortungsvoller Position in Lehre und Weiterbildung, in angewandter Forschung und Entwicklung sowie Dienstleistungen tätig und tragen zur inhaltlich-strategischen Entwicklung Ihres Fachgebiets, des Instituts und der Fachabteilung bei.\\nIhre Aufgaben:\\n\\n\\tSie lehren auf Bachelorstufe, vornehmlich in technischen, planerischen und wirtschaftsbezogenen Studiengängen, zu Themen der berufsbezogenen mündlichen, schriftlichen und/oder interkulturellen Kommunikation.\\n\\tSie engagieren sich in der anwendungsorientierten Forschung und Entwicklung im ikik.\\n\\tSie akquirieren und bearbeiten drittmittelfinanzierte Forschungs- und Entwicklungsprojekte.\\n\\tSie unterrichten in Weiterbildungsprogrammen der Hochschule und entwerfen attraktive, am Markt orientierte Weiterbildungsangebote.\\n\\nIhre Qualifikation:\\n\\n\\tSie verfügen über einen Hochschulabschluss in (angewandter) Psychologie oder einer verwandten Disziplin, nachweisbare Praxiserfahrung sowie idealerweise eine Promotion/PhD bzw. damit äquivalente Leistungen.\\n\\tSie können den Studierenden berufsrelevante Handlungskompetenzen mit Begeisterung und didaktischem Geschick vermitteln, z.B. in Rede- und Gesprächsrhetorik, in beruflichen Schreibprozessen, in Teamkommunikation, Führungskommunikation und der interkulturellen Zusammenarbeit.\\n\\tSie verfügen über einen erfolgreichen Leistungsausweis auf Weiterbildungsstufe.\\n\\tSie haben bereits erfolgreich Drittmittel für angewandte Forschungsprojekte akquiriert,\\n\\tdiese durchgeführt und wissenschaftlich anerkannte Publikationen veröffentlicht.\\n\\tSie sind bereit und in der Lage, Lehrveranstaltungen in englischer Sprache professionell durchzuführen und sich in einem internationalen Umfeld zu bewegen.\\n\\tSie zeigen Bereitschaft zum Engagement in der Instituts-, Fachabteilungs- und Hochschulentwicklung und zur interdisziplinären Zusammenarbeit.\\n\\nWir bieten:\\n\\n\\teinen Wirkungsbereich in einem dynamischen Umfeld mit modernster Infrastruktur.\\n\\teine abwechslungsreiche und anspruchsvolle Tätigkeit mit hoher Eigenverantwortung.\\n\\tFreiraum für persönliche Initiative.\\n\\tein engagiertes, interdisziplinäres Team mit ca. 20 Dozierenden.\\n\\tZentrale Lage beim Bahnhof Rapperswil und idyllisch gelegen direkt am Zürichsee.\\n\\nHaben wir Ihr Interesse geweckt und verfügen Sie über die gewünschte Qualifikation? Dann freuen wir uns auf Ihre Bewerbung bis spätestens 15. Mai 2021 über unser Online-Tool (jobs-ost.ch). Für weitere Auskünfte wenden Sie sich bitte per Mail an Stefan Kammhuber, Leiter ikik- Institut für Kommunikation und Interkulturelle Kompetenz, [email].  \n",
       "9                                                                                                                                                                                                                                                                                                                                                                                                                                                                                                                                                                                                                                                                                                                                                                                                                                                                                                                                                                                                                                                                                                                                                                                    Senior Scientist (w/m) im Kompetenzzentrum Produktionsmesstechnik mit Schwerpunkt Mikro- und Nanomesstechnik (100%)\\nscheme image\\nAus Drei wird Eins. Die OST – Ostschweizer Fachhochschule ist die gemeinsame Weiterführung der FHS St.Gallen, HSR Rapperswil und NTB Buchs. Wir sind an den Standorten St.Gallen, Buchs und Rapperswil zu Hause, lehren auf Bachelor- und Masterstufe, bieten Weiterbildungen und Dienstleistungen an und forschen anwendungsorientiert und praxisnah. Wir sind am Puls des Lebens, in der Mitte der Gesellschaft und im Dialog mit Lehre, Forschung und Wirtschaft.\\n\\nIm Rahmen des Ausbaus des Instituts Mikrotechnik und Photonik (IMP) suchen wir per sofort oder nach Vereinbarung einen\\n\\nSenior Scientist (w/m) im Kompetenzzentrum Produktionsmesstechnik mit Schwerpunkt Mikro- und Nanomesstechnik (100%)\\n\\nals dynamische Forschungspersönlichkeit zur Umsetzung unserer Strategie.\\nIhre Aufgaben:\\n\\n\\tSie verantworten die Akquisition und die Bearbeitung von Forschungs- und Entwicklungsprojekten in Kooperation mit der Industrie und mit Hochschulen.\\n\\tSie unterstützen in der Lehre und betreuen Studierende innerhalb von Übungen und Praktika sowie in Projekt- und Abschlussarbeiten.\\n\\tSie sind aktiv auf dem Gebiet Dienstleistungen und Weiterbildungen.\\n\\tSie verantworten zentrale Aufgaben im Zug des Auf- und Ausbaus der dimensionellen Mikro- und Nanomesstechnik.\\n\\nIhre Qualifikation:\\n\\n\\tAbgeschlossenes Hochschulstudium idealerweise in Systemtechnik oder Maschinenbau vorzugsweise mit Promotion.\\n\\tSehr gute Kenntnisse auf dem Gebiet der Koordinatenmesstechnik und Rauheitsmesstechnik idealerweise mit Schwerpunkt Mikro- und Nanomesstechnik.\\n\\tErfahrung im Bereich Forschung und Entwicklung an einer Hochschule und/oder in der Industrie.\\n\\tGute Kenntnisse der Geometrischen Produktspezifikation und Verifikation.\\n\\tGute Vernetzung mit Industrie und Forschungsinstitutionen.\\n\\tInterdisziplinäre Denk- und Arbeitsweise mit Freude an Forschungsarbeit.\\n\\tSehr gute Deutschkenntnisse, gute Englischkenntnisse.\\n\\nWir bieten:\\n\\n\\tWirkungsbereich in einem dynamischen Umfeld mit modernster Infrastruktur.\\n\\tAbwechslungsreiche und anspruchsvolle Tätigkeit mit hoher Eigenverantwortung an einer attraktiven Hochschule.\\n\\nHaben wir Ihr Interesse geweckt und verfügen Sie über die gewünschte Qualifikation? Dann freuen wir uns auf Ihre Bewerbung bis spätestens 15. Mai 2021 über unser Online-Tool (jobs-ost.ch). Für weitere Auskünfte wenden Sie sich bitte telefonisch an Prof. Dr.-Ing. Michael Marxer, unter +41 58 257 33 39.  \n",
       "10                                                                                                                                                                                                                                                                                                                                                                                                                                                                                                                                                                                                                                                                                                                                                                                                                                                                                                                                                                                                                                                                                                                                                                                                                                                                                                                                                                                                                                                                                                                                                                                                                                                                                                                                                                                                                                                                                                                                                                                                                                                              Praktikant/in\\n\\nDie FHS St.Gallen, die HSR Rapperswil und die NTB Buchs werden unter Beibehaltung der heutigen Standorte zur «OST – Ostschweizer Fachhochschule» zusammengeführt. Damit ergeben sich neue Perspektiven in der Bildungslandschaft Ostschweiz.\\n\\nDas Institut für Angewandte Pflegewissenschaft IPW-OST ist in den Bereichen evidenzbasierte Pflege, Demenz, onkologische Pflege, Palliative Care sowie Rehabilitation und Gesundheitsförderung in der Pflege tätig. Wir suchen fortlaufend für jeweils drei bis sechs Monate ein/e Praktikant/in.\\nIhre Aufgaben:\\n\\n\\tLiteraturrecherchen durchführen\\n\\tbei Datenerhebungs- und Datenanalyseverfahren mitarbeiten\\n\\tbei Projekten und Antragsverfahren mitarbeiten\\n\\nIhre Qualifikation:\\n\\n\\tStudium der Pflege oder Pflegewissenschaft\\n\\tGrundkenntnisse der qualitativen und quantitativen Forschungsmethoden\\n\\tgute Kenntnisse der Literaturrecherche in nationalen und internationalen Datenbanken\\n\\tgute Lesekenntnisse in Englisch, sehr gute Deutschkenntnisse in Sprache und Schrift\\n\\tsehr gute PC-Kenntnisse in den Anwendungen Word (z. B. Arbeiten mit Formatvorlagen), PowerPoint und Excel\\n\\tFähigkeit, selbstständig, zuverlässig und verantwortungsbewusst zu arbeiten\\n\\nWir bieten:\\n\\n\\tMitarbeit in einem Team mit klinischem Fokus\\n\\tMöglichkeiten zur fachlichen Weiterentwicklung\\n\\tfortschrittliche Arbeitsbedingungen\\n\\teinen Arbeitsort direkt beim Hauptbahnhof St.Gallen\\n\\nHaben wir Ihr Interesse geweckt und verfügen Sie über die gewünschte Qualifikation? Dann freuen wir uns auf Ihre Bewerbung über unser Online-Tool. Für weitere Auskünfte wenden Sie sich bitte telefonisch an Frau Prof. Dr. Heidrun Gattinger unter Tel. +41 58 257 15 22 oder [email].  "
      ]
     },
     "execution_count": 31,
     "metadata": {},
     "output_type": "execute_result"
    }
   ],
   "source": [
    "dataset = '/mnt/home/kartikeysharma/sentence_extraction/new_quarterly_datasets/ads_raw-2021-06.jsonl.bz2'\n",
    "df = get_softskill(dataset, 25, 'de')\n",
    "df"
   ]
  },
  {
   "cell_type": "code",
   "execution_count": 29,
   "metadata": {},
   "outputs": [],
   "source": [
    "# # with open('/mnt/home/kartikeysharma/sentence_extraction/new_quarterly_datasets/ads_raw-2022-03.jsonl.bz2') as infile:\n",
    "# #     json_lines = infile.readlines()\n",
    "# #     # random.seed(11)\n",
    "# #     # random.shuffle(json_lines)\n",
    "# #     num = 1\n",
    "# #     for i,l in enumerate(tqdm(json_lines)):\n",
    "# #         # print(i)\n",
    "# #         if i > num-1:\n",
    "# #             break\n",
    "# #         data = json.loads(l)\n",
    "# #         if data['language'] != 'de' or data[\"text_valid\"] != 1 or \"adve_text_copy\" not in data:\n",
    "# #             continue\n",
    "        \n",
    "# #         doc = nlp(data[\"adve_text_copy\"])\n",
    "\n",
    "# import spacy\n",
    "# import json\n",
    "# import pandas as pd\n",
    "# from tqdm import tqdm\n",
    "\n",
    "\n",
    "# # Sample DataFrame to store the results\n",
    "# results = []\n",
    "\n",
    "# # Path to your JSONL file\n",
    "# jsonl_file_path = '/mnt/home/kartikeysharma/sentence_extraction/new_quarterly_datasets/ads_raw-2021-06.jsonl.bz2'\n",
    "\n",
    "# # Number of documents to process (set to None to process all documents)\n",
    "# num_documents = 14\n",
    "\n",
    "# # Read JSON lines from the file and process each document\n",
    "# with open(jsonl_file_path) as infile:\n",
    "#     json_lines = infile.readlines()\n",
    "#     for i, l in enumerate(tqdm(json_lines)):\n",
    "#         if num_documents is not None and i >= num_documents:\n",
    "#             break\n",
    "\n",
    "#         data = json.loads(l)\n",
    "#         if data['language'] != 'de' or data[\"text_valid\"] != 1 or \"adve_text_copy\" not in data:\n",
    "#             continue\n",
    "\n",
    "#         # Process the document\n",
    "#         doc = nlp(data[\"adve_text_copy\"])\n",
    "\n",
    "#         # Extract entities and labels from the processed document\n",
    "#         entities = [(ent.text, ent.label_) for ent in doc.ents]\n",
    "\n",
    "#         # Add the information to the results list\n",
    "#         results.append({\n",
    "#             \"Document ID\": i + 1,\n",
    "#             \"Text\": data[\"adve_text_copy\"],\n",
    "#             \"Entities\": entities\n",
    "#         })\n",
    "\n",
    "# # Create a DataFrame from the results list\n",
    "# df2 = pd.DataFrame(results)\n",
    "# df2\n"
   ]
  },
  {
   "cell_type": "code",
   "execution_count": 28,
   "metadata": {},
   "outputs": [
    {
     "data": {
      "text/html": [
       "<div>\n",
       "<style scoped>\n",
       "    .dataframe tbody tr th:only-of-type {\n",
       "        vertical-align: middle;\n",
       "    }\n",
       "\n",
       "    .dataframe tbody tr th {\n",
       "        vertical-align: top;\n",
       "    }\n",
       "\n",
       "    .dataframe thead th {\n",
       "        text-align: right;\n",
       "    }\n",
       "</style>\n",
       "<table border=\"1\" class=\"dataframe\">\n",
       "  <thead>\n",
       "    <tr style=\"text-align: right;\">\n",
       "      <th></th>\n",
       "      <th>Document ID</th>\n",
       "      <th>Text</th>\n",
       "      <th>Entities</th>\n",
       "    </tr>\n",
       "  </thead>\n",
       "  <tbody>\n",
       "    <tr>\n",
       "      <th>11</th>\n",
       "      <td>12</td>\n",
       "      <td>Für unsere Abteilung Handwerk &amp; Kunst, an unserem Standort Baar-Inwil, suchen wir per\\n1. August 2021 für 6 Monate zwei engagierte Personen für ein\\nPraktikum 100%\\nUntere Rainstrasse 31, 6340 Baar\\nAufgaben\\n\\n\\tUnterstützen und Begleiten einer Gruppe von erwachsenen Menschen mit einer psychischen, geistigen und/oder körperlichen Beeinträchtigung\\n\\tMithelfen beim Herstellen von marktfähigen Produkten mit verschiedensten Materialien wie Papier, Holz, Ton, Textil\\n\\tMithelfen beim Bearbeiten von Kundenaufträgen mit und durch die Klientinnen und Klienten\\n\\nProfil\\n\\n\\tAbgeschlossene Berufsausbildung oder Matura\\n\\tKreatives und handwerkliches Geschick\\n\\tFlair im Umgang mit Menschen mit einer Beeinträchtigung\\n\\tGute PC-Anwenderkenntnisse (MS Office)\\n\\nKontakt\\nCéline Cudré\\nSachbearbeiterin HR\\n041 781 64 99</td>\n",
       "      <td>[(engagierte, SoftSkill), (Kreatives, SoftSkill_C), (handwerkliches Geschick, SoftSkill), (Flair im Umgang mit Menschen mit einer Beeinträchtigung, SoftSkill)]</td>\n",
       "    </tr>\n",
       "  </tbody>\n",
       "</table>\n",
       "</div>"
      ],
      "text/plain": [
       "    Document ID   \n",
       "11           12  \\\n",
       "\n",
       "                                                                                                                                                                                                                                                                                                                                                                                                                                                                                                                                                                                                                                                                                                                                                                                                                                                     Text   \n",
       "11  Für unsere Abteilung Handwerk & Kunst, an unserem Standort Baar-Inwil, suchen wir per\\n1. August 2021 für 6 Monate zwei engagierte Personen für ein\\nPraktikum 100%\\nUntere Rainstrasse 31, 6340 Baar\\nAufgaben\\n\\n\\tUnterstützen und Begleiten einer Gruppe von erwachsenen Menschen mit einer psychischen, geistigen und/oder körperlichen Beeinträchtigung\\n\\tMithelfen beim Herstellen von marktfähigen Produkten mit verschiedensten Materialien wie Papier, Holz, Ton, Textil\\n\\tMithelfen beim Bearbeiten von Kundenaufträgen mit und durch die Klientinnen und Klienten\\n\\nProfil\\n\\n\\tAbgeschlossene Berufsausbildung oder Matura\\n\\tKreatives und handwerkliches Geschick\\n\\tFlair im Umgang mit Menschen mit einer Beeinträchtigung\\n\\tGute PC-Anwenderkenntnisse (MS Office)\\n\\nKontakt\\nCéline Cudré\\nSachbearbeiterin HR\\n041 781 64 99  \\\n",
       "\n",
       "                                                                                                                                                           Entities  \n",
       "11  [(engagierte, SoftSkill), (Kreatives, SoftSkill_C), (handwerkliches Geschick, SoftSkill), (Flair im Umgang mit Menschen mit einer Beeinträchtigung, SoftSkill)]  "
      ]
     },
     "execution_count": 28,
     "metadata": {},
     "output_type": "execute_result"
    }
   ],
   "source": [
    "df2[df2['Document ID'] == 12]"
   ]
  },
  {
   "cell_type": "code",
   "execution_count": null,
   "metadata": {},
   "outputs": [],
   "source": [
    "data = '/mnt/home/kartikeysharma/sentence_extraction/new_quarterly_datasets/ads_raw-2023-03.jsonl.bz2'\n",
    "num = 2\n",
    "language = 'de'\n",
    "entity_sent = []\n",
    "job_ids_list = []\n",
    "year_list = []\n",
    "quarter_list = []\n",
    "creation_date_list = []\n",
    "text_valid_list = [] \n",
    "length_list = []\n",
    "language_list = []\n",
    "text_list = []\n",
    "tokens_in_sent_list = []\n",
    "pipeline_version_list = []\n",
    "actual_sentence_list = []\n",
    "\n",
    "with open(data) as infile:\n",
    "    json_lines = infile.readlines()\n",
    "    # random.seed(11)\n",
    "    # random.shuffle(json_lines)\n",
    "\n",
    "    for i,l in enumerate(tqdm(json_lines)):\n",
    "        # print(i)\n",
    "        if i > num-1:\n",
    "            break\n",
    "        data = json.loads(l)\n",
    "        if data['language'] != language or data[\"text_valid\"] != 1 or \"adve_text_copy\" not in data:\n",
    "            continue\n",
    "        \n",
    "        doc = nlp(data[\"adve_text_copy\"])\n",
    "        # print(f'the value of doc is {doc}')\n",
    "\n",
    "        job_ids = data[\"adve_iden_adve\"]\n",
    "        year = data[\"adve_time_year\"]\n",
    "        quarter = data[\"adve_time_quar\"]\n",
    "        # creation_date = data[\"creation_date\"]\n",
    "        text_valid = data[\"text_valid\"]\n",
    "        length = data[\"length\"]\n",
    "        language = data[\"language\"]\n",
    "        text = data[\"adve_text_copy\"]\n",
    "        pipeline_version = data[\"pipeline_version\"]\n",
    "        # print(f'entities are {doc.ents}')\n",
    "        # print('************************  NEW JOB AD ***************************  NEW JOB AD *****************************')\n",
    "        # print(f'value of doc.ents is : {doc.ents}')\n",
    "        # print(f'value of doc.sents is : {doc.sents}')\n",
    "\n",
    "        if doc.ents:\n",
    "            for j, sent in enumerate(doc.sents):\n",
    "                # print(f'sentence nummer{j} is here --> {sent.text}')\n",
    "                if not has_softskill_C(sent):\n",
    "                    continue\n",
    "                # print(f\"-------------SENT {j}\")\n",
    "                # print(f'The value of the {j}th sentence is *****  {sent.text}')\n",
    "\n",
    "                flag_softskill = 0\n",
    "                flag_softskill_C = 0\n",
    "                for token  in sent:\n",
    "                    # print(f'the token is {token.text}, and its label is {token.ent_type_}')\n",
    "                    if token.ent_type_ == \"SoftSkill\":\n",
    "                        flag_softskill = 1\n",
    "                    if token.ent_type_ == \"SoftSkill_C\":\n",
    "                        flag_softskill_C = 1\n",
    "                if flag_softskill == 1 and flag_softskill_C == 1:\n",
    "                    prompt_sent, num_tokens = prepare_prompt(sent)\n",
    "                    actual_sentence = sent.text\n",
    "                    # print(f'The value of the produced prompt is @@@@@@  {prompt_sent}')\n",
    "                    actual_sentence_list.append(actual_sentence)\n",
    "                    tokens_in_sent_list.append(num_tokens)\n",
    "                    entity_sent.append(prompt_sent)\n",
    "                    job_ids_list.append(job_ids)\n",
    "                    year_list.append(year)\n",
    "                    quarter_list.append(quarter)\n",
    "                    # creation_date_list.append(creation_date)\n",
    "                    text_valid_list.append(text_valid)\n",
    "                    length_list.append(length)\n",
    "                    language_list.append(language)\n",
    "                    text_list.append(text)\n",
    "                    pipeline_version_list.append(pipeline_version)\n",
    "\n",
    "                    continue\n",
    "\n",
    "zipped_list = list(zip( job_ids_list, year_list, quarter_list,entity_sent,actual_sentence_list,tokens_in_sent_list, text_valid_list, length_list, language_list, pipeline_version_list, text_list))\n",
    "df = pd.DataFrame(zipped_list, columns =['job_ids_list', 'year_list', 'quarter_list','entity_sent', 'actual_sentence_list','tokens_in_sent_list', 'text_valid_list', 'length_list', 'language_list', 'pipeline_version_list', 'text_list']) "
   ]
  },
  {
   "cell_type": "code",
   "execution_count": 22,
   "metadata": {},
   "outputs": [
    {
     "data": {
      "text/html": [
       "<div>\n",
       "<style scoped>\n",
       "    .dataframe tbody tr th:only-of-type {\n",
       "        vertical-align: middle;\n",
       "    }\n",
       "\n",
       "    .dataframe tbody tr th {\n",
       "        vertical-align: top;\n",
       "    }\n",
       "\n",
       "    .dataframe thead th {\n",
       "        text-align: right;\n",
       "    }\n",
       "</style>\n",
       "<table border=\"1\" class=\"dataframe\">\n",
       "  <thead>\n",
       "    <tr style=\"text-align: right;\">\n",
       "      <th></th>\n",
       "      <th>job_ids_list</th>\n",
       "      <th>year_list</th>\n",
       "      <th>quarter_list</th>\n",
       "      <th>entity_sent</th>\n",
       "      <th>actual_sentence_list</th>\n",
       "      <th>tokens_in_sent_list</th>\n",
       "      <th>text_valid_list</th>\n",
       "      <th>length_list</th>\n",
       "      <th>language_list</th>\n",
       "      <th>pipeline_version_list</th>\n",
       "      <th>text_list</th>\n",
       "    </tr>\n",
       "  </thead>\n",
       "  <tbody>\n",
       "    <tr>\n",
       "      <th>0</th>\n",
       "      <td>sjmm_qua-2-04-2023-03-05023-1-000188850</td>\n",
       "      <td>2023</td>\n",
       "      <td>1</td>\n",
       "      <td>optimalerweise mehrjährige Berufserfahrung in Montagetätigkeit\\n• &lt;SoftSkill&gt;Affinität zu Mechanik&lt;/SoftSkill&gt;, &lt;SoftSkill&gt;gutes Gespür für Prozessabläufe&lt;/SoftSkill&gt;\\n• Lesen von technischen Zeichnungen und Stücklisten\\n• Gute Deutschkenntnisse in Wort und Schrift, weitere Fremdsprachen von Vorteil\\n• &lt;SoftSkill_C&gt;Freundliches&lt;/SoftSkill_C&gt; und &lt;SoftSkill&gt;gepflegtes Auftreten&lt;/SoftSkill&gt;\\n• &lt;SoftSkill&gt;Freude an der Arbeit mit innovativen Technologien&lt;/SoftSkill&gt;\\n• &lt;SoftSkill&gt;Teamfähigkeit&lt;/SoftSkill&gt;, &lt;SoftSkill&gt;Zuverlässigkeit&lt;/SoftSkill&gt;, &lt;SoftSkill&gt;Ehrlichkeit&lt;/SoftSkill&gt; und &lt;SoftSkill&gt;Effizienz&lt;/SoftSkill&gt;, &lt;SoftSkill&gt;genaue Arbeitsweise&lt;/SoftSkill&gt; sowie &lt;SoftSkill&gt;Hands-onMentalität&lt;/SoftSkill&gt;\\nWIR BIETEN DIR:\\n• Einen topmodernen und zukunftsorientierten Arbeitsplatz in einem expandierenden Unternehmen\\nin der Herstellung von Produktionslinien für Etikettiersysteme\\n• Möglichkeit, dich kreativ einzubringen und attraktive Entwicklungsmöglichkeiten in einem\\nvielseitigen Aufgabengebiet\\n• Faire Bezahlung, 25 Tage Ferien, gratis Parkplatz und weitere Mitarbeiter-Benefits\\n• Ein gut eingespieltes, motiviertes und kompetentes Team, in dem man sich gegenseitig unterstützt\\n• Eigentümer, die selbst Hand anlegen und einen Firmenstandort mitten im Grünen, aber nur 20\\nMinuten von Winterthur entfernt\\nWenn du dich in der Beschreibung wiederfindest und neugierig bist auf mehr von unserem BLUMER-Team\\nund der Erfolgsgeschichte, schick uns doch deinen Lebenslauf mit Foto und deine Zeugnisse oder den Link\\nzu deinem LinkedIn- oder Xing-Account via Email an Barbara Wucsits auf [email].</td>\n",
       "      <td>optimalerweise mehrjährige Berufserfahrung in Montagetätigkeit\\n• Affinität zu Mechanik, gutes Gespür für Prozessabläufe\\n• Lesen von technischen Zeichnungen und Stücklisten\\n• Gute Deutschkenntnisse in Wort und Schrift, weitere Fremdsprachen von Vorteil\\n• Freundliches und gepflegtes Auftreten\\n• Freude an der Arbeit mit innovativen Technologien\\n• Teamfähigkeit, Zuverlässigkeit, Ehrlichkeit und Effizienz, genaue Arbeitsweise sowie Hands-onMentalität\\nWIR BIETEN DIR:\\n• Einen topmodernen und zukunftsorientierten Arbeitsplatz in einem expandierenden Unternehmen\\nin der Herstellung von Produktionslinien für Etikettiersysteme\\n• Möglichkeit, dich kreativ einzubringen und attraktive Entwicklungsmöglichkeiten in einem\\nvielseitigen Aufgabengebiet\\n• Faire Bezahlung, 25 Tage Ferien, gratis Parkplatz und weitere Mitarbeiter-Benefits\\n• Ein gut eingespieltes, motiviertes und kompetentes Team, in dem man sich gegenseitig unterstützt\\n• Eigentümer, die selbst Hand anlegen und einen Firmenstandort mitten im Grünen, aber nur 20\\nMinuten von Winterthur entfernt\\nWenn du dich in der Beschreibung wiederfindest und neugierig bist auf mehr von unserem BLUMER-Team\\nund der Erfolgsgeschichte, schick uns doch deinen Lebenslauf mit Foto und deine Zeugnisse oder den Link\\nzu deinem LinkedIn- oder Xing-Account via Email an Barbara Wucsits auf [email].</td>\n",
       "      <td>173</td>\n",
       "      <td>1</td>\n",
       "      <td>2249</td>\n",
       "      <td>de</td>\n",
       "      <td>bb0e34e</td>\n",
       "      <td>Wir sind ein internationales Unternehmen, tätig in Entwicklung, Fabrikation, Vertrieb und Unterhalt von\\nMaschinen und Produktionsanlagen für die Weiterverarbeitung nach dem Druck, sowie im Handel von\\nVerbrauchsmaterialien für die grafische Branche und die Verpackungsindustrie.\\nZur Verstärkung am Standort Oberneunforn suchen wir per sofort\\noder nach Vereinbarung eine/n engagierte/n, selbstständige/n\\nMASCHINEN-/ POLYMECHANIKER/IN\\n FACHRICHTUNG MONTAGE\\n 80-100%\\nDEINE AUFGABEN:\\n• Selbstständige mechanische Montage von unseren Maschinenmodulen und Etikettiermaschinen\\n• Funktionskontrolle und Erstinbetriebnahme im Werk\\n• Sporadische Service-Einsätze für Wartungs- und Reparaturarbeiten\\nDU BRINGST MIT:\\n• Abgeschlossene Berufslehre als Maschinen- oder Polymechaniker mit Fachrichtung Montage oder\\ngleichwertige Ausbildung. optimalerweise mehrjährige Berufserfahrung in Montagetätigkeit\\n• Affinität zu Mechanik, gutes Gespür für Prozessabläufe\\n• Lesen von technischen Zeichnungen und Stücklisten\\n• Gute Deutschkenntnisse in Wort und Schrift, weitere Fremdsprachen von Vorteil\\n• Freundliches und gepflegtes Auftreten\\n• Freude an der Arbeit mit innovativen Technologien\\n• Teamfähigkeit, Zuverlässigkeit, Ehrlichkeit und Effizienz, genaue Arbeitsweise sowie Hands-onMentalität\\nWIR BIETEN DIR:\\n• Einen topmodernen und zukunftsorientierten Arbeitsplatz in einem expandierenden Unternehmen\\nin der Herstellung von Produktionslinien für Etikettiersysteme\\n• Möglichkeit, dich kreativ einzubringen und attraktive Entwicklungsmöglichkeiten in einem\\nvielseitigen Aufgabengebiet\\n• Faire Bezahlung, 25 Tage Ferien, gratis Parkplatz und weitere Mitarbeiter-Benefits\\n• Ein gut eingespieltes, motiviertes und kompetentes Team, in dem man sich gegenseitig unterstützt\\n• Eigentümer, die ...</td>\n",
       "    </tr>\n",
       "  </tbody>\n",
       "</table>\n",
       "</div>"
      ],
      "text/plain": [
       "                              job_ids_list  year_list  quarter_list   \n",
       "0  sjmm_qua-2-04-2023-03-05023-1-000188850       2023             1  \\\n",
       "\n",
       "                                                                                                                                                                                                                                                                                                                                                                                                                                                                                                                                                                                                                                                                                                                                                                                                                                                                                                                                                                                                                                                                                                                                                                                                                                                                                                                                                                                                                                                                                                                                                                                                                                                                entity_sent   \n",
       "0  optimalerweise mehrjährige Berufserfahrung in Montagetätigkeit\\n• <SoftSkill>Affinität zu Mechanik</SoftSkill>, <SoftSkill>gutes Gespür für Prozessabläufe</SoftSkill>\\n• Lesen von technischen Zeichnungen und Stücklisten\\n• Gute Deutschkenntnisse in Wort und Schrift, weitere Fremdsprachen von Vorteil\\n• <SoftSkill_C>Freundliches</SoftSkill_C> und <SoftSkill>gepflegtes Auftreten</SoftSkill>\\n• <SoftSkill>Freude an der Arbeit mit innovativen Technologien</SoftSkill>\\n• <SoftSkill>Teamfähigkeit</SoftSkill>, <SoftSkill>Zuverlässigkeit</SoftSkill>, <SoftSkill>Ehrlichkeit</SoftSkill> und <SoftSkill>Effizienz</SoftSkill>, <SoftSkill>genaue Arbeitsweise</SoftSkill> sowie <SoftSkill>Hands-onMentalität</SoftSkill>\\nWIR BIETEN DIR:\\n• Einen topmodernen und zukunftsorientierten Arbeitsplatz in einem expandierenden Unternehmen\\nin der Herstellung von Produktionslinien für Etikettiersysteme\\n• Möglichkeit, dich kreativ einzubringen und attraktive Entwicklungsmöglichkeiten in einem\\nvielseitigen Aufgabengebiet\\n• Faire Bezahlung, 25 Tage Ferien, gratis Parkplatz und weitere Mitarbeiter-Benefits\\n• Ein gut eingespieltes, motiviertes und kompetentes Team, in dem man sich gegenseitig unterstützt\\n• Eigentümer, die selbst Hand anlegen und einen Firmenstandort mitten im Grünen, aber nur 20\\nMinuten von Winterthur entfernt\\nWenn du dich in der Beschreibung wiederfindest und neugierig bist auf mehr von unserem BLUMER-Team\\nund der Erfolgsgeschichte, schick uns doch deinen Lebenslauf mit Foto und deine Zeugnisse oder den Link\\nzu deinem LinkedIn- oder Xing-Account via Email an Barbara Wucsits auf [email].  \\\n",
       "\n",
       "                                                                                                                                                                                                                                                                                                                                                                                                                                                                                                                                                                                                                                                                                                                                                                                                                                                                                                                                                                                                                                                                                                                                                                                                                                                                                                                                                                                      actual_sentence_list   \n",
       "0  optimalerweise mehrjährige Berufserfahrung in Montagetätigkeit\\n• Affinität zu Mechanik, gutes Gespür für Prozessabläufe\\n• Lesen von technischen Zeichnungen und Stücklisten\\n• Gute Deutschkenntnisse in Wort und Schrift, weitere Fremdsprachen von Vorteil\\n• Freundliches und gepflegtes Auftreten\\n• Freude an der Arbeit mit innovativen Technologien\\n• Teamfähigkeit, Zuverlässigkeit, Ehrlichkeit und Effizienz, genaue Arbeitsweise sowie Hands-onMentalität\\nWIR BIETEN DIR:\\n• Einen topmodernen und zukunftsorientierten Arbeitsplatz in einem expandierenden Unternehmen\\nin der Herstellung von Produktionslinien für Etikettiersysteme\\n• Möglichkeit, dich kreativ einzubringen und attraktive Entwicklungsmöglichkeiten in einem\\nvielseitigen Aufgabengebiet\\n• Faire Bezahlung, 25 Tage Ferien, gratis Parkplatz und weitere Mitarbeiter-Benefits\\n• Ein gut eingespieltes, motiviertes und kompetentes Team, in dem man sich gegenseitig unterstützt\\n• Eigentümer, die selbst Hand anlegen und einen Firmenstandort mitten im Grünen, aber nur 20\\nMinuten von Winterthur entfernt\\nWenn du dich in der Beschreibung wiederfindest und neugierig bist auf mehr von unserem BLUMER-Team\\nund der Erfolgsgeschichte, schick uns doch deinen Lebenslauf mit Foto und deine Zeugnisse oder den Link\\nzu deinem LinkedIn- oder Xing-Account via Email an Barbara Wucsits auf [email].  \\\n",
       "\n",
       "   tokens_in_sent_list  text_valid_list  length_list language_list   \n",
       "0                  173                1         2249            de  \\\n",
       "\n",
       "  pipeline_version_list   \n",
       "0               bb0e34e  \\\n",
       "\n",
       "                                                                                                                                                                                                                                                                                                                                                                                                                                                                                                                                                                                                                                                                                                                                                                                                                                                                                                                                                                                                                                                                                                                                                                                                                                                                                                                                                                                                                                                                                                                                                                                                                                                                                                                                                                                                                                                                 text_list  \n",
       "0  Wir sind ein internationales Unternehmen, tätig in Entwicklung, Fabrikation, Vertrieb und Unterhalt von\\nMaschinen und Produktionsanlagen für die Weiterverarbeitung nach dem Druck, sowie im Handel von\\nVerbrauchsmaterialien für die grafische Branche und die Verpackungsindustrie.\\nZur Verstärkung am Standort Oberneunforn suchen wir per sofort\\noder nach Vereinbarung eine/n engagierte/n, selbstständige/n\\nMASCHINEN-/ POLYMECHANIKER/IN\\n FACHRICHTUNG MONTAGE\\n 80-100%\\nDEINE AUFGABEN:\\n• Selbstständige mechanische Montage von unseren Maschinenmodulen und Etikettiermaschinen\\n• Funktionskontrolle und Erstinbetriebnahme im Werk\\n• Sporadische Service-Einsätze für Wartungs- und Reparaturarbeiten\\nDU BRINGST MIT:\\n• Abgeschlossene Berufslehre als Maschinen- oder Polymechaniker mit Fachrichtung Montage oder\\ngleichwertige Ausbildung. optimalerweise mehrjährige Berufserfahrung in Montagetätigkeit\\n• Affinität zu Mechanik, gutes Gespür für Prozessabläufe\\n• Lesen von technischen Zeichnungen und Stücklisten\\n• Gute Deutschkenntnisse in Wort und Schrift, weitere Fremdsprachen von Vorteil\\n• Freundliches und gepflegtes Auftreten\\n• Freude an der Arbeit mit innovativen Technologien\\n• Teamfähigkeit, Zuverlässigkeit, Ehrlichkeit und Effizienz, genaue Arbeitsweise sowie Hands-onMentalität\\nWIR BIETEN DIR:\\n• Einen topmodernen und zukunftsorientierten Arbeitsplatz in einem expandierenden Unternehmen\\nin der Herstellung von Produktionslinien für Etikettiersysteme\\n• Möglichkeit, dich kreativ einzubringen und attraktive Entwicklungsmöglichkeiten in einem\\nvielseitigen Aufgabengebiet\\n• Faire Bezahlung, 25 Tage Ferien, gratis Parkplatz und weitere Mitarbeiter-Benefits\\n• Ein gut eingespieltes, motiviertes und kompetentes Team, in dem man sich gegenseitig unterstützt\\n• Eigentümer, die ...  "
      ]
     },
     "execution_count": 22,
     "metadata": {},
     "output_type": "execute_result"
    }
   ],
   "source": [
    "import pandas as pd\n",
    "# df.style.set_properties(max_colwidth=100)\n",
    "pd.set_option('display.max_colwidth', 1800)\n",
    "\n",
    "\n",
    "\n",
    "# Your pandas code goes here...\n",
    "# Instead of just calling the dataframe, use the display() function\n",
    "df\n"
   ]
  },
  {
   "cell_type": "markdown",
   "metadata": {},
   "source": [
    "## create complete dataset across all years"
   ]
  },
  {
   "cell_type": "code",
   "execution_count": 38,
   "metadata": {},
   "outputs": [],
   "source": [
    "import pandas as pd\n",
    "import os\n",
    "\n",
    "def get_complete_df(folder_path, num, lang, batch_size=5):\n",
    "    list_file_names = get_all_jsonl_job_ad_files(folder_path)\n",
    "    batches = [list_file_names[i:i+batch_size] for i in range(0, len(list_file_names), batch_size)]\n",
    "    \n",
    "    for i, batch in enumerate(batches):\n",
    "        master_GS = []\n",
    "        for jsonl_file in batch:\n",
    "            # print(jsonl_file)\n",
    "            child_GS_df = get_softskill(jsonl_file, num, lang)\n",
    "            \n",
    "            master_GS.append(child_GS_df)\n",
    "\n",
    "        master_df = pd.concat(master_GS)\n",
    "        # Save dataframe as a CSV file\n",
    "        csv_file_name = f\"batch_{i+1}.csv\"\n",
    "        master_df.to_csv(os.path.join(folder_path, csv_file_name), index=False)\n",
    "\n"
   ]
  },
  {
   "cell_type": "code",
   "execution_count": 37,
   "metadata": {},
   "outputs": [
    {
     "name": "stdout",
     "output_type": "stream",
     "text": [
      "/mnt/home/kartikeysharma/sentence_extraction/quarterly_datasets/ads_raw-2017-03.jsonl.bz2\n"
     ]
    },
    {
     "name": "stderr",
     "output_type": "stream",
     "text": [
      "  0%|          | 1/6455 [00:00<1:35:57,  1.12it/s]\n"
     ]
    },
    {
     "name": "stdout",
     "output_type": "stream",
     "text": [
      "/mnt/home/kartikeysharma/sentence_extraction/quarterly_datasets/ads_raw-2018-06.jsonl.bz2\n"
     ]
    },
    {
     "name": "stderr",
     "output_type": "stream",
     "text": [
      "  0%|          | 1/5353 [00:00<59:31,  1.50it/s]\n"
     ]
    },
    {
     "name": "stdout",
     "output_type": "stream",
     "text": [
      "/mnt/home/kartikeysharma/sentence_extraction/quarterly_datasets/ads_raw-2016-06.jsonl.bz2\n"
     ]
    },
    {
     "name": "stderr",
     "output_type": "stream",
     "text": [
      "  0%|          | 1/5051 [00:00<34:49,  2.42it/s]\n"
     ]
    },
    {
     "name": "stdout",
     "output_type": "stream",
     "text": [
      "/mnt/home/kartikeysharma/sentence_extraction/quarterly_datasets/ads_raw-2014-09.jsonl.bz2\n"
     ]
    },
    {
     "name": "stderr",
     "output_type": "stream",
     "text": [
      "  0%|          | 1/5155 [00:00<35:40,  2.41it/s]\n"
     ]
    },
    {
     "name": "stdout",
     "output_type": "stream",
     "text": [
      "/mnt/home/kartikeysharma/sentence_extraction/quarterly_datasets/ads_raw-2020-12.jsonl.bz2\n"
     ]
    },
    {
     "name": "stderr",
     "output_type": "stream",
     "text": [
      "  0%|          | 1/4886 [00:00<00:00, 8388.61it/s]\n"
     ]
    },
    {
     "name": "stdout",
     "output_type": "stream",
     "text": [
      "/mnt/home/kartikeysharma/sentence_extraction/quarterly_datasets/ads_raw-2017-06.jsonl.bz2\n"
     ]
    },
    {
     "name": "stderr",
     "output_type": "stream",
     "text": [
      "  0%|          | 1/5610 [00:00<13:54,  6.73it/s]\n"
     ]
    },
    {
     "name": "stdout",
     "output_type": "stream",
     "text": [
      "/mnt/home/kartikeysharma/sentence_extraction/quarterly_datasets/ads_raw-2017-09.jsonl.bz2\n"
     ]
    },
    {
     "name": "stderr",
     "output_type": "stream",
     "text": [
      "  0%|          | 1/5438 [00:00<41:56,  2.16it/s]\n"
     ]
    },
    {
     "name": "stdout",
     "output_type": "stream",
     "text": [
      "/mnt/home/kartikeysharma/sentence_extraction/quarterly_datasets/ads_raw-2019-09.jsonl.bz2\n"
     ]
    },
    {
     "name": "stderr",
     "output_type": "stream",
     "text": [
      "  0%|          | 1/5316 [00:00<1:04:07,  1.38it/s]\n"
     ]
    },
    {
     "name": "stdout",
     "output_type": "stream",
     "text": [
      "/mnt/home/kartikeysharma/sentence_extraction/quarterly_datasets/ads_raw-2021-09.jsonl.bz2\n"
     ]
    },
    {
     "name": "stderr",
     "output_type": "stream",
     "text": [
      "  0%|          | 1/58545 [00:00<4:50:14,  3.36it/s]\n"
     ]
    },
    {
     "name": "stdout",
     "output_type": "stream",
     "text": [
      "/mnt/home/kartikeysharma/sentence_extraction/quarterly_datasets/ads_raw-2022-06.jsonl.bz2\n"
     ]
    },
    {
     "name": "stderr",
     "output_type": "stream",
     "text": [
      "  0%|          | 1/68029 [00:00<00:09, 7345.54it/s]\n"
     ]
    },
    {
     "name": "stdout",
     "output_type": "stream",
     "text": [
      "/mnt/home/kartikeysharma/sentence_extraction/quarterly_datasets/ads_raw-2020-09.jsonl.bz2\n"
     ]
    },
    {
     "name": "stderr",
     "output_type": "stream",
     "text": [
      "  0%|          | 1/4882 [00:00<00:00, 6584.46it/s]\n"
     ]
    },
    {
     "name": "stdout",
     "output_type": "stream",
     "text": [
      "/mnt/home/kartikeysharma/sentence_extraction/quarterly_datasets/ads_raw-2020-03.jsonl.bz2\n"
     ]
    },
    {
     "name": "stderr",
     "output_type": "stream",
     "text": [
      "  0%|          | 1/6069 [00:00<16:19,  6.20it/s]\n"
     ]
    },
    {
     "name": "stdout",
     "output_type": "stream",
     "text": [
      "/mnt/home/kartikeysharma/sentence_extraction/quarterly_datasets/ads_raw-2019-12.jsonl.bz2\n"
     ]
    },
    {
     "name": "stderr",
     "output_type": "stream",
     "text": [
      "  0%|          | 1/5319 [00:00<54:49,  1.62it/s]\n"
     ]
    },
    {
     "name": "stdout",
     "output_type": "stream",
     "text": [
      "/mnt/home/kartikeysharma/sentence_extraction/quarterly_datasets/ads_raw-2021-03.jsonl.bz2\n"
     ]
    },
    {
     "name": "stderr",
     "output_type": "stream",
     "text": [
      "  0%|          | 1/35520 [00:00<3:44:11,  2.64it/s]\n"
     ]
    },
    {
     "name": "stdout",
     "output_type": "stream",
     "text": [
      "/mnt/home/kartikeysharma/sentence_extraction/quarterly_datasets/ads_raw-2021-06.jsonl.bz2\n"
     ]
    },
    {
     "name": "stderr",
     "output_type": "stream",
     "text": [
      "  0%|          | 1/39897 [00:00<2:56:34,  3.77it/s]\n"
     ]
    },
    {
     "name": "stdout",
     "output_type": "stream",
     "text": [
      "/mnt/home/kartikeysharma/sentence_extraction/quarterly_datasets/ads_raw-2022-09.jsonl.bz2\n"
     ]
    },
    {
     "name": "stderr",
     "output_type": "stream",
     "text": [
      "  0%|          | 1/72164 [00:00<8:28:48,  2.36it/s]\n"
     ]
    },
    {
     "name": "stdout",
     "output_type": "stream",
     "text": [
      "/mnt/home/kartikeysharma/sentence_extraction/quarterly_datasets/ads_raw-2016-03.jsonl.bz2\n"
     ]
    },
    {
     "name": "stderr",
     "output_type": "stream",
     "text": [
      "  0%|          | 1/6057 [00:00<28:11,  3.58it/s]\n"
     ]
    },
    {
     "name": "stdout",
     "output_type": "stream",
     "text": [
      "/mnt/home/kartikeysharma/sentence_extraction/quarterly_datasets/ads_raw-2020-06.jsonl.bz2\n"
     ]
    },
    {
     "name": "stderr",
     "output_type": "stream",
     "text": [
      "  0%|          | 1/4626 [00:00<13:14,  5.82it/s]\n"
     ]
    },
    {
     "name": "stdout",
     "output_type": "stream",
     "text": [
      "/mnt/home/kartikeysharma/sentence_extraction/quarterly_datasets/ads_raw-2018-12.jsonl.bz2\n"
     ]
    },
    {
     "name": "stderr",
     "output_type": "stream",
     "text": [
      "  0%|          | 1/5268 [00:00<26:06,  3.36it/s]\n"
     ]
    },
    {
     "name": "stdout",
     "output_type": "stream",
     "text": [
      "/mnt/home/kartikeysharma/sentence_extraction/quarterly_datasets/ads_raw-2023-03.jsonl.bz2\n"
     ]
    },
    {
     "name": "stderr",
     "output_type": "stream",
     "text": [
      "  0%|          | 1/72347 [00:00<1:14:21, 16.22it/s]\n"
     ]
    },
    {
     "name": "stdout",
     "output_type": "stream",
     "text": [
      "/mnt/home/kartikeysharma/sentence_extraction/quarterly_datasets/ads_raw-2015-03.jsonl.bz2\n"
     ]
    },
    {
     "name": "stderr",
     "output_type": "stream",
     "text": [
      "  0%|          | 1/5784 [00:00<58:35,  1.64it/s]\n"
     ]
    },
    {
     "name": "stdout",
     "output_type": "stream",
     "text": [
      "/mnt/home/kartikeysharma/sentence_extraction/quarterly_datasets/ads_raw-2022-03.jsonl.bz2\n"
     ]
    },
    {
     "name": "stderr",
     "output_type": "stream",
     "text": [
      "  0%|          | 1/65548 [00:00<4:59:13,  3.65it/s]\n"
     ]
    },
    {
     "name": "stdout",
     "output_type": "stream",
     "text": [
      "/mnt/home/kartikeysharma/sentence_extraction/quarterly_datasets/ads_raw-2014-12.jsonl.bz2\n"
     ]
    },
    {
     "name": "stderr",
     "output_type": "stream",
     "text": [
      "  0%|          | 1/4998 [00:00<47:34,  1.75it/s]\n"
     ]
    },
    {
     "name": "stdout",
     "output_type": "stream",
     "text": [
      "/mnt/home/kartikeysharma/sentence_extraction/quarterly_datasets/ads_raw-2018-03.jsonl.bz2\n"
     ]
    },
    {
     "name": "stderr",
     "output_type": "stream",
     "text": [
      "  0%|          | 1/6520 [00:00<1:06:34,  1.63it/s]\n"
     ]
    },
    {
     "name": "stdout",
     "output_type": "stream",
     "text": [
      "/mnt/home/kartikeysharma/sentence_extraction/quarterly_datasets/ads_raw-2015-09.jsonl.bz2\n"
     ]
    },
    {
     "name": "stderr",
     "output_type": "stream",
     "text": [
      "  0%|          | 1/4962 [00:00<45:28,  1.82it/s]\n"
     ]
    },
    {
     "name": "stdout",
     "output_type": "stream",
     "text": [
      "/mnt/home/kartikeysharma/sentence_extraction/quarterly_datasets/ads_raw-2019-03.jsonl.bz2\n"
     ]
    },
    {
     "name": "stderr",
     "output_type": "stream",
     "text": [
      "  0%|          | 1/5774 [00:00<48:13,  2.00it/s]\n"
     ]
    },
    {
     "name": "stdout",
     "output_type": "stream",
     "text": [
      "/mnt/home/kartikeysharma/sentence_extraction/quarterly_datasets/ads_raw-2017-12.jsonl.bz2\n"
     ]
    },
    {
     "name": "stderr",
     "output_type": "stream",
     "text": [
      "  0%|          | 1/5402 [00:00<44:14,  2.03it/s]\n"
     ]
    },
    {
     "name": "stdout",
     "output_type": "stream",
     "text": [
      "/mnt/home/kartikeysharma/sentence_extraction/quarterly_datasets/ads_raw-2019-06.jsonl.bz2\n"
     ]
    },
    {
     "name": "stderr",
     "output_type": "stream",
     "text": [
      "  0%|          | 1/5424 [00:00<26:43,  3.38it/s]\n"
     ]
    },
    {
     "name": "stdout",
     "output_type": "stream",
     "text": [
      "/mnt/home/kartikeysharma/sentence_extraction/quarterly_datasets/ads_raw-2021-12.jsonl.bz2\n"
     ]
    },
    {
     "name": "stderr",
     "output_type": "stream",
     "text": [
      "  0%|          | 1/60740 [00:00<9:06:25,  1.85it/s]\n"
     ]
    },
    {
     "name": "stdout",
     "output_type": "stream",
     "text": [
      "/mnt/home/kartikeysharma/sentence_extraction/quarterly_datasets/ads_raw-2016-12.jsonl.bz2\n"
     ]
    },
    {
     "name": "stderr",
     "output_type": "stream",
     "text": [
      "  0%|          | 1/5113 [00:00<35:31,  2.40it/s]\n"
     ]
    },
    {
     "name": "stdout",
     "output_type": "stream",
     "text": [
      "/mnt/home/kartikeysharma/sentence_extraction/quarterly_datasets/ads_raw-2022-12.jsonl.bz2\n"
     ]
    },
    {
     "name": "stderr",
     "output_type": "stream",
     "text": [
      "  0%|          | 1/72230 [00:00<5:50:09,  3.44it/s]\n"
     ]
    },
    {
     "name": "stdout",
     "output_type": "stream",
     "text": [
      "/mnt/home/kartikeysharma/sentence_extraction/quarterly_datasets/ads_raw-2016-09.jsonl.bz2\n"
     ]
    },
    {
     "name": "stderr",
     "output_type": "stream",
     "text": [
      "  0%|          | 1/5091 [00:00<45:52,  1.85it/s]\n"
     ]
    },
    {
     "name": "stdout",
     "output_type": "stream",
     "text": [
      "/mnt/home/kartikeysharma/sentence_extraction/quarterly_datasets/ads_raw-2018-09.jsonl.bz2\n"
     ]
    },
    {
     "name": "stderr",
     "output_type": "stream",
     "text": [
      "  0%|          | 1/5366 [00:00<39:15,  2.28it/s]\n"
     ]
    },
    {
     "name": "stdout",
     "output_type": "stream",
     "text": [
      "/mnt/home/kartikeysharma/sentence_extraction/quarterly_datasets/ads_raw-2015-06.jsonl.bz2\n"
     ]
    },
    {
     "name": "stderr",
     "output_type": "stream",
     "text": [
      "  0%|          | 1/4939 [00:00<34:54,  2.36it/s]\n"
     ]
    },
    {
     "name": "stdout",
     "output_type": "stream",
     "text": [
      "/mnt/home/kartikeysharma/sentence_extraction/quarterly_datasets/ads_raw-2015-12.jsonl.bz2\n"
     ]
    },
    {
     "name": "stderr",
     "output_type": "stream",
     "text": [
      "  0%|          | 1/4889 [00:00<44:37,  1.83it/s]\n"
     ]
    }
   ],
   "source": [
    "get_complete_df(folder_path, 1, 'de', batch_size=10)"
   ]
  },
  {
   "cell_type": "code",
   "execution_count": null,
   "metadata": {},
   "outputs": [],
   "source": [
    "# import os\n",
    "# import pandas as pd\n",
    "\n",
    "# def get_complete_df(folder_path, num, lang):\n",
    "\n",
    "#     list_file_names = get_all_jsonl_job_ad_files(folder_path)\n",
    "#     master_GS = []\n",
    "#     for jsonl_file in list_file_names:\n",
    "#         child_GS_df = get_softskill(jsonl_file, num, lang)\n",
    "#         master_GS.append(child_GS_df)\n",
    "\n",
    "#     master_df = pd.concat(master_GS)\n",
    "#     return master_df"
   ]
  }
 ],
 "metadata": {
  "kernelspec": {
   "display_name": "Python 3.10.9 ('.venv': pipenv)",
   "language": "python",
   "name": "python3"
  },
  "language_info": {
   "codemirror_mode": {
    "name": "ipython",
    "version": 3
   },
   "file_extension": ".py",
   "mimetype": "text/x-python",
   "name": "python",
   "nbconvert_exporter": "python",
   "pygments_lexer": "ipython3",
   "version": "3.10.9"
  },
  "orig_nbformat": 4,
  "vscode": {
   "interpreter": {
    "hash": "6c2d7034643da21f80946db48c6ff59c099b1c6c274abf9f1a6a941ef618cf47"
   }
  }
 },
 "nbformat": 4,
 "nbformat_minor": 2
}
