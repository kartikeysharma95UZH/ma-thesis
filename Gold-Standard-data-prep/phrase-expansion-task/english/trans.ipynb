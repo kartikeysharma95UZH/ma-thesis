{
 "cells": [
  {
   "cell_type": "code",
   "execution_count": 3,
   "metadata": {},
   "outputs": [],
   "source": [
    "import deepl\n",
    "\n",
    "auth_key = \"xxxxx-xxxx-xxxxx-xxxxx\"  # Replace with your key\n",
    "translator = deepl.Translator(auth_key)\n",
    "\n"
   ]
  },
  {
   "cell_type": "code",
   "execution_count": 5,
   "metadata": {},
   "outputs": [
    {
     "name": "stdout",
     "output_type": "stream",
     "text": [
      " We are looking for a skilled watchmaker with a <SoftSkill_C>service-oriented</SoftSkill_C>, <SoftSkill_C>responsible</SoftSkill_C> as well as <SoftSkill>team-oriented acting</SoftSkill>.\n"
     ]
    }
   ],
   "source": [
    "to_trans_text = ' Wir wenden uns an einen gelernten Uhrmacher mit einem <SoftSkill_C>dienstleitungsorientierten</SoftSkill_C>, <SoftSkill_C>verantwortungsbewussten</SoftSkill_C> wie <SoftSkill>teamorientierten handeln</SoftSkill>.' \n",
    "result = translator.translate_text(to_trans_text, target_lang=\"EN-GB\")\n",
    "print(result.text)  "
   ]
  },
  {
   "cell_type": "code",
   "execution_count": 6,
   "metadata": {},
   "outputs": [
    {
     "name": "stdout",
     "output_type": "stream",
     "text": [
      " We are looking for a trained watchmaker with a service-oriented, responsible and team-oriented approach.\n"
     ]
    }
   ],
   "source": [
    "to_trans_text = ' Wir wenden uns an einen gelernten Uhrmacher mit einem dienstleitungsorientierten, verantwortungsbewussten wie teamorientierten handeln' \n",
    "result = translator.translate_text(to_trans_text, target_lang=\"EN-GB\")\n",
    "print(result.text)  "
   ]
  },
  {
   "cell_type": "markdown",
   "metadata": {},
   "source": [
    "## Translation Preparation here"
   ]
  },
  {
   "cell_type": "code",
   "execution_count": 14,
   "metadata": {},
   "outputs": [
    {
     "data": {
      "text/html": [
       "<div>\n",
       "<style scoped>\n",
       "    .dataframe tbody tr th:only-of-type {\n",
       "        vertical-align: middle;\n",
       "    }\n",
       "\n",
       "    .dataframe tbody tr th {\n",
       "        vertical-align: top;\n",
       "    }\n",
       "\n",
       "    .dataframe thead th {\n",
       "        text-align: right;\n",
       "    }\n",
       "</style>\n",
       "<table border=\"1\" class=\"dataframe\">\n",
       "  <thead>\n",
       "    <tr style=\"text-align: right;\">\n",
       "      <th></th>\n",
       "      <th>input</th>\n",
       "      <th>output</th>\n",
       "      <th>ind_skill</th>\n",
       "    </tr>\n",
       "  </thead>\n",
       "  <tbody>\n",
       "    <tr>\n",
       "      <th>367</th>\n",
       "      <td>•  &lt;SoftSkill_C&gt;Hohes Kommunikations-&lt;/SoftSki...</td>\n",
       "      <td>&lt;SoftSkill&gt;Hohes Kommunikationsgeschick&lt;/SoftS...</td>\n",
       "      <td>[Hohes Kommunikationsgeschick, Verhandlungsges...</td>\n",
       "    </tr>\n",
       "    <tr>\n",
       "      <th>1909</th>\n",
       "      <td>Bist du eine &lt;SoftSkill_C&gt;vielseitige&lt;/SoftSk...</td>\n",
       "      <td>Bist du eine &lt;SoftSkill&gt;vielseitige Person&lt;/S...</td>\n",
       "      <td>[vielseitige Person, motivierte Person, lernor...</td>\n",
       "    </tr>\n",
       "    <tr>\n",
       "      <th>1161</th>\n",
       "      <td>•  &lt;SoftSkill&gt;Überzeugender Auftritt&lt;/SoftSki...</td>\n",
       "      <td>• &lt;SoftSkill&gt;Überzeugender Auftritt&lt;/SoftSkil...</td>\n",
       "      <td>[Überzeugender Auftritt, dynamische Persönlich...</td>\n",
       "    </tr>\n",
       "    <tr>\n",
       "      <th>1110</th>\n",
       "      <td>•  &lt;SoftSkill&gt;Freude am Unterrichten&lt;/SoftSki...</td>\n",
       "      <td>&lt;SoftSkill&gt;Freude am Unterrichten&lt;/SoftSkill&gt;...</td>\n",
       "      <td>[Freude am Unterrichten, Freude am Persönlichk...</td>\n",
       "    </tr>\n",
       "    <tr>\n",
       "      <th>1036</th>\n",
       "      <td>•  &lt;SoftSkill&gt;Interesse an technischen Arbeit...</td>\n",
       "      <td>• &lt;SoftSkill&gt;Interesse an technischen Arbeite...</td>\n",
       "      <td>[Interesse an technischen Arbeiten, Interesse ...</td>\n",
       "    </tr>\n",
       "    <tr>\n",
       "      <th>...</th>\n",
       "      <td>...</td>\n",
       "      <td>...</td>\n",
       "      <td>...</td>\n",
       "    </tr>\n",
       "    <tr>\n",
       "      <th>1130</th>\n",
       "      <td>DEIN PROFIL\\nDu &lt;SoftSkill&gt;gehst gerne selbst...</td>\n",
       "      <td>DEIN PROFIL\\nDu &lt;SoftSkill&gt;gehst gerne selbst...</td>\n",
       "      <td>[gehst gerne selbstbewusst auf Menschen zu, ka...</td>\n",
       "    </tr>\n",
       "    <tr>\n",
       "      <th>1294</th>\n",
       "      <td>Sie sind eine &lt;SoftSkill_C&gt;eigenständige&lt;/Sof...</td>\n",
       "      <td>Sie sind eine &lt;SoftSkill&gt;eigenständige Person...</td>\n",
       "      <td>[eigenständige Person, leistungsorientierte Pe...</td>\n",
       "    </tr>\n",
       "    <tr>\n",
       "      <th>860</th>\n",
       "      <td>Wir wenden uns an eine &lt;SoftSkill_C&gt;flexible&lt;...</td>\n",
       "      <td>Wir wenden uns an eine &lt;SoftSkill&gt;flexible Pe...</td>\n",
       "      <td>[flexible Persönlichkeit, dienstorientierte Pe...</td>\n",
       "    </tr>\n",
       "    <tr>\n",
       "      <th>1459</th>\n",
       "      <td>&lt;SoftSkill&gt;Freude am Umgang mit den Gästen un...</td>\n",
       "      <td>&lt;SoftSkill&gt;Freude am Umgang mit den Gästen un...</td>\n",
       "      <td>[Freude am Umgang mit den Gästen und den Kunde...</td>\n",
       "    </tr>\n",
       "    <tr>\n",
       "      <th>1126</th>\n",
       "      <td>•  Ihr &lt;SoftSkill&gt;Flair für den PC&lt;/SoftSkill...</td>\n",
       "      <td>• Ihr &lt;SoftSkill&gt;Flair für den PC&lt;/SoftSkill&gt;...</td>\n",
       "      <td>[Flair für den PC, Flair für Kundenkontakte]</td>\n",
       "    </tr>\n",
       "  </tbody>\n",
       "</table>\n",
       "<p>1773 rows × 3 columns</p>\n",
       "</div>"
      ],
      "text/plain": [
       "                                                  input  \\\n",
       "367   •  <SoftSkill_C>Hohes Kommunikations-</SoftSki...   \n",
       "1909   Bist du eine <SoftSkill_C>vielseitige</SoftSk...   \n",
       "1161   •  <SoftSkill>Überzeugender Auftritt</SoftSki...   \n",
       "1110   •  <SoftSkill>Freude am Unterrichten</SoftSki...   \n",
       "1036   •  <SoftSkill>Interesse an technischen Arbeit...   \n",
       "...                                                 ...   \n",
       "1130   DEIN PROFIL\\nDu <SoftSkill>gehst gerne selbst...   \n",
       "1294   Sie sind eine <SoftSkill_C>eigenständige</Sof...   \n",
       "860    Wir wenden uns an eine <SoftSkill_C>flexible<...   \n",
       "1459   <SoftSkill>Freude am Umgang mit den Gästen un...   \n",
       "1126   •  Ihr <SoftSkill>Flair für den PC</SoftSkill...   \n",
       "\n",
       "                                                 output  \\\n",
       "367   <SoftSkill>Hohes Kommunikationsgeschick</SoftS...   \n",
       "1909   Bist du eine <SoftSkill>vielseitige Person</S...   \n",
       "1161   • <SoftSkill>Überzeugender Auftritt</SoftSkil...   \n",
       "1110   <SoftSkill>Freude am Unterrichten</SoftSkill>...   \n",
       "1036   • <SoftSkill>Interesse an technischen Arbeite...   \n",
       "...                                                 ...   \n",
       "1130   DEIN PROFIL\\nDu <SoftSkill>gehst gerne selbst...   \n",
       "1294   Sie sind eine <SoftSkill>eigenständige Person...   \n",
       "860    Wir wenden uns an eine <SoftSkill>flexible Pe...   \n",
       "1459   <SoftSkill>Freude am Umgang mit den Gästen un...   \n",
       "1126   • Ihr <SoftSkill>Flair für den PC</SoftSkill>...   \n",
       "\n",
       "                                              ind_skill  \n",
       "367   [Hohes Kommunikationsgeschick, Verhandlungsges...  \n",
       "1909  [vielseitige Person, motivierte Person, lernor...  \n",
       "1161  [Überzeugender Auftritt, dynamische Persönlich...  \n",
       "1110  [Freude am Unterrichten, Freude am Persönlichk...  \n",
       "1036  [Interesse an technischen Arbeiten, Interesse ...  \n",
       "...                                                 ...  \n",
       "1130  [gehst gerne selbstbewusst auf Menschen zu, ka...  \n",
       "1294  [eigenständige Person, leistungsorientierte Pe...  \n",
       "860   [flexible Persönlichkeit, dienstorientierte Pe...  \n",
       "1459  [Freude am Umgang mit den Gästen und den Kunde...  \n",
       "1126       [Flair für den PC, Flair für Kundenkontakte]  \n",
       "\n",
       "[1773 rows x 3 columns]"
      ]
     },
     "execution_count": 14,
     "metadata": {},
     "output_type": "execute_result"
    }
   ],
   "source": [
    "import pandas as pd\n",
    "from sklearn.model_selection import train_test_split\n",
    "data_path=\"/home/user/ksharma/ks_thesis/ma-thesis/pipeline_test/data_files/df_2000_rows.csv\"\n",
    "sjmm_data = pd.read_csv(data_path)\n",
    "sjmm_data['input'] = sjmm_data['input'].str.rstrip(' ->')\n",
    "fine_tuning_sjmm_data = sjmm_data[['input', 'output']]\n",
    "fine_tuning_sjmm_data['ind_skill'] = fine_tuning_sjmm_data['output'].str.findall(r'<SoftSkill>(.*?)</SoftSkill>')\n",
    "train_sjmm_data, test_sjmm_data = train_test_split(fine_tuning_sjmm_data, test_size=0.1, random_state=42)\n",
    "train_sjmm_data"
   ]
  },
  {
   "cell_type": "code",
   "execution_count": 38,
   "metadata": {},
   "outputs": [
    {
     "name": "stderr",
     "output_type": "stream",
     "text": [
      "Translating: 100%|████████████████████████████████████████████████████████████████████████████████████████████████████████| 250/250 [04:10<00:00,  1.00s/it]\n"
     ]
    }
   ],
   "source": [
    "from tqdm import tqdm\n",
    "\n",
    "# Function to translate a text to a target language\n",
    "def translate_text(to_trans):\n",
    "    result = translator.translate_text(to_trans, target_lang=\"EN-GB\")\n",
    "    # print(result)\n",
    "    result = result.text\n",
    "    return result\n",
    "\n",
    "# Create a new dataframe for storing the translated values\n",
    "translated_df = train_sjmm_data.head(250).copy()\n",
    "\n",
    "# Translate the first 100 rows and store the translated values in the new dataframe\n",
    "# for index, row in translated_df.iterrows():\n",
    "for index, row in tqdm(translated_df.head(250).iterrows(), total=250, desc=\"Translating\"):\n",
    "    translated_df.at[index, 'input_EN'] = translate_text(row['input'])\n",
    "    translated_df.at[index, 'output_EN'] = translate_text(row['output'])\n"
   ]
  },
  {
   "cell_type": "code",
   "execution_count": 40,
   "metadata": {},
   "outputs": [],
   "source": [
    "translated_df.to_csv(\"/home/user/ksharma/ks_thesis/ma-thesis/english_stuff/translated_ss_250ex.csv\")\n",
    "# trans_b1 = translated_dfcccccc\n",
    "# translated_df"
   ]
  },
  {
   "cell_type": "code",
   "execution_count": 36,
   "metadata": {},
   "outputs": [
    {
     "data": {
      "text/html": [
       "<div>\n",
       "<style scoped>\n",
       "    .dataframe tbody tr th:only-of-type {\n",
       "        vertical-align: middle;\n",
       "    }\n",
       "\n",
       "    .dataframe tbody tr th {\n",
       "        vertical-align: top;\n",
       "    }\n",
       "\n",
       "    .dataframe thead th {\n",
       "        text-align: right;\n",
       "    }\n",
       "</style>\n",
       "<table border=\"1\" class=\"dataframe\">\n",
       "  <thead>\n",
       "    <tr style=\"text-align: right;\">\n",
       "      <th></th>\n",
       "      <th>input</th>\n",
       "      <th>output</th>\n",
       "      <th>ind_skill</th>\n",
       "      <th>input_EN</th>\n",
       "      <th>output_EN</th>\n",
       "    </tr>\n",
       "  </thead>\n",
       "  <tbody>\n",
       "    <tr>\n",
       "      <th>367</th>\n",
       "      <td>•  &lt;SoftSkill_C&gt;Hohes Kommunikations-&lt;/SoftSkill_C&gt; und &lt;SoftSkill&gt;Verhandlungsgeschick&lt;/SoftSkill</td>\n",
       "      <td>&lt;SoftSkill&gt;Hohes Kommunikationsgeschick&lt;/SoftSkill&gt; und &lt;SoftSkill&gt;Verhandlungsgeschick&lt;/SoftSkill&gt;</td>\n",
       "      <td>[Hohes Kommunikationsgeschick, Verhandlungsgeschick]</td>\n",
       "      <td>- &lt;SoftSkill_C&gt;High communication&lt;/SoftSkill_C&gt; and &lt;SoftSkill&gt;negotiation&lt;/SoftSkill</td>\n",
       "      <td>&lt;SoftSkill&gt;High communication skills&lt;/SoftSkill&gt; and &lt;SoftSkill&gt;Negotiation skills&lt;/SoftSkill&gt;.</td>\n",
       "    </tr>\n",
       "    <tr>\n",
       "      <th>1909</th>\n",
       "      <td>Bist du eine &lt;SoftSkill_C&gt;vielseitige&lt;/SoftSkill_C&gt;, &lt;SoftSkill_C&gt;motivierte&lt;/SoftSkill_C&gt; und &lt;SoftSkill&gt;lernorientierte Person&lt;/SoftSkill&gt;, die &lt;SoftSkill&gt;Freude an der aktiven Gestaltung und Entwicklung anspruchsvoller Lösungen v.a. im Bereich der Digitalisierung hat&lt;/SoftSkill&gt;?</td>\n",
       "      <td>Bist du eine &lt;SoftSkill&gt;vielseitige Person&lt;/SoftSkill&gt;, &lt;SoftSkill&gt;motivierte Person&lt;/SoftSkill&gt; und &lt;SoftSkill&gt;lernorientierte Person&lt;/SoftSkill&gt;, die &lt;SoftSkill&gt;Freude an der aktiven Gestaltung und Entwicklung anspruchsvoller Lösungen v.a. im Bereich der Digitalisierung hat&lt;/SoftSkill&gt;?</td>\n",
       "      <td>[vielseitige Person, motivierte Person, lernorientierte Person, Freude an der aktiven Gestaltung und Entwicklung anspruchsvoller Lösungen v.a. im Bereich der Digitalisierung hat]</td>\n",
       "      <td>Are you a &lt;SoftSkill_C&gt;versatile&lt;/SoftSkill_C&gt;, &lt;SoftSkill_C&gt;motivated&lt;/SoftSkill_C&gt; and &lt;SoftSkill&gt;learning-oriented person&lt;/SoftSkill&gt; who &lt;SoftSkill&gt;enjoys actively designing and developing sophisticated solutions, especially in the field of digitalisation&lt;/SoftSkill&gt;?</td>\n",
       "      <td>Are you a &lt;SoftSkill&gt;versatile person&lt;/SoftSkill&gt;, &lt;SoftSkill&gt;motivated person&lt;/SoftSkill&gt; and &lt;SoftSkill&gt;learning-oriented person&lt;/SoftSkill&gt; who &lt;SoftSkill&gt;enjoys actively designing and developing sophisticated solutions, especially in the field of digitalisation&lt;/SoftSkill&gt;?</td>\n",
       "    </tr>\n",
       "    <tr>\n",
       "      <th>1161</th>\n",
       "      <td>•  &lt;SoftSkill&gt;Überzeugender Auftritt&lt;/SoftSkill&gt;; &lt;SoftSkill_C&gt;dynamische&lt;/SoftSkill_C&gt; und &lt;SoftSkill&gt;belastbare Persönlichkeit&lt;/SoftSkill&gt;, die ihre Zielsetzung auf überdurchschnittliche Leistungsresultate ausrichtet.</td>\n",
       "      <td>• &lt;SoftSkill&gt;Überzeugender Auftritt&lt;/SoftSkill&gt;; &lt;SoftSkill&gt;dynamische Persönlichkeit&lt;/SoftSkill&gt; und &lt;SoftSkill&gt;belastbare Persönlichkeit&lt;/SoftSkill&gt;, die ihre Zielsetzung auf überdurchschnittliche Leistungsresultate ausrichtet.</td>\n",
       "      <td>[Überzeugender Auftritt, dynamische Persönlichkeit, belastbare Persönlichkeit]</td>\n",
       "      <td>- &lt;SoftSkill&gt;Convincing appearance&lt;/SoftSkill&gt;; &lt;SoftSkill_C&gt;dynamic&lt;/SoftSkill_C&gt; and &lt;SoftSkill&gt;resilient personality&lt;/SoftSkill&gt;, who aligns his or her objective to above-average performance results.</td>\n",
       "      <td>- &lt;SoftSkill&gt;Convincing appearance&lt;/SoftSkill&gt;; &lt;SoftSkill&gt;Dynamic personality&lt;/SoftSkill&gt; and &lt;SoftSkill&gt;Resilient personality&lt;/SoftSkill&gt;, which aligns its objective to above-average performance results.</td>\n",
       "    </tr>\n",
       "    <tr>\n",
       "      <th>1110</th>\n",
       "      <td>•  &lt;SoftSkill&gt;Freude am Unterrichten&lt;/SoftSkill&gt; und an der &lt;SoftSkill_C&gt;Persönlichkeitsbildung der Jugendlichen&lt;/SoftSkill_C</td>\n",
       "      <td>&lt;SoftSkill&gt;Freude am Unterrichten&lt;/SoftSkill&gt; und &lt;SoftSkill&gt;Freude am Persönlichkeitsbildung der Jugendlichen&lt;/SoftSkill&gt;.</td>\n",
       "      <td>[Freude am Unterrichten, Freude am Persönlichkeitsbildung der Jugendlichen]</td>\n",
       "      <td>- &lt;SoftSkill&gt;Enjoyment in teaching&lt;/SoftSkill&gt; and in the &lt;SoftSkill_C&gt;personal development of young people&lt;/SoftSkill_C</td>\n",
       "      <td>&lt;SoftSkill&gt;Enjoyment of teaching&lt;/SoftSkill&gt; and &lt;SoftSkill&gt;Enjoyment of personality development of young people&lt;/SoftSkill&gt;.</td>\n",
       "    </tr>\n",
       "    <tr>\n",
       "      <th>1036</th>\n",
       "      <td>•  &lt;SoftSkill&gt;Interesse an technischen Arbeiten&lt;/SoftSkill&gt; und &lt;SoftSkill_C&gt;Verfahren&lt;/SoftSkill_C&gt; sowie &lt;SoftSkill&gt;Fähigkeit, Probleme zu bearbeiten und zu lösen&lt;/SoftSkill</td>\n",
       "      <td>• &lt;SoftSkill&gt;Interesse an technischen Arbeiten&lt;/SoftSkill&gt; und &lt;SoftSkill&gt;Interesse an Verfahren&lt;/SoftSkill&gt; sowie &lt;SoftSkill&gt;Fähigkeit, Probleme zu bearbeiten und zu lösen&lt;/SoftSkill&gt;</td>\n",
       "      <td>[Interesse an technischen Arbeiten, Interesse an Verfahren, Fähigkeit, Probleme zu bearbeiten und zu lösen]</td>\n",
       "      <td>- &lt;SoftSkill&gt;Interest in technical work&lt;/SoftSkill&gt; and &lt;SoftSkill_C&gt;Procedures&lt;/SoftSkill_C&gt; and &lt;SoftSkill&gt;Ability to work on and solve problems&lt;/SoftSkill</td>\n",
       "      <td>- &lt;SoftSkill&gt;Interest in technical work&lt;/SoftSkill&gt; and &lt;SoftSkill&gt;Interest in procedures&lt;/SoftSkill&gt; and &lt;SoftSkill&gt;Ability to work on and solve problems&lt;/SoftSkill&gt;.</td>\n",
       "    </tr>\n",
       "  </tbody>\n",
       "</table>\n",
       "</div>"
      ],
      "text/plain": [
       "                                                                                                                                                                                                                                                                                             input  \\\n",
       "367                                                                                                                                                                                             •  <SoftSkill_C>Hohes Kommunikations-</SoftSkill_C> und <SoftSkill>Verhandlungsgeschick</SoftSkill   \n",
       "1909   Bist du eine <SoftSkill_C>vielseitige</SoftSkill_C>, <SoftSkill_C>motivierte</SoftSkill_C> und <SoftSkill>lernorientierte Person</SoftSkill>, die <SoftSkill>Freude an der aktiven Gestaltung und Entwicklung anspruchsvoller Lösungen v.a. im Bereich der Digitalisierung hat</SoftSkill>?   \n",
       "1161                                                                   •  <SoftSkill>Überzeugender Auftritt</SoftSkill>; <SoftSkill_C>dynamische</SoftSkill_C> und <SoftSkill>belastbare Persönlichkeit</SoftSkill>, die ihre Zielsetzung auf überdurchschnittliche Leistungsresultate ausrichtet.   \n",
       "1110                                                                                                                                                                 •  <SoftSkill>Freude am Unterrichten</SoftSkill> und an der <SoftSkill_C>Persönlichkeitsbildung der Jugendlichen</SoftSkill_C   \n",
       "1036                                                                                                               •  <SoftSkill>Interesse an technischen Arbeiten</SoftSkill> und <SoftSkill_C>Verfahren</SoftSkill_C> sowie <SoftSkill>Fähigkeit, Probleme zu bearbeiten und zu lösen</SoftSkill   \n",
       "\n",
       "                                                                                                                                                                                                                                                                                                  output  \\\n",
       "367                                                                                                                                                                                                  <SoftSkill>Hohes Kommunikationsgeschick</SoftSkill> und <SoftSkill>Verhandlungsgeschick</SoftSkill>   \n",
       "1909   Bist du eine <SoftSkill>vielseitige Person</SoftSkill>, <SoftSkill>motivierte Person</SoftSkill> und <SoftSkill>lernorientierte Person</SoftSkill>, die <SoftSkill>Freude an der aktiven Gestaltung und Entwicklung anspruchsvoller Lösungen v.a. im Bereich der Digitalisierung hat</SoftSkill>?   \n",
       "1161                                                               • <SoftSkill>Überzeugender Auftritt</SoftSkill>; <SoftSkill>dynamische Persönlichkeit</SoftSkill> und <SoftSkill>belastbare Persönlichkeit</SoftSkill>, die ihre Zielsetzung auf überdurchschnittliche Leistungsresultate ausrichtet.   \n",
       "1110                                                                                                                                                                         <SoftSkill>Freude am Unterrichten</SoftSkill> und <SoftSkill>Freude am Persönlichkeitsbildung der Jugendlichen</SoftSkill>.   \n",
       "1036                                                                                                            • <SoftSkill>Interesse an technischen Arbeiten</SoftSkill> und <SoftSkill>Interesse an Verfahren</SoftSkill> sowie <SoftSkill>Fähigkeit, Probleme zu bearbeiten und zu lösen</SoftSkill>   \n",
       "\n",
       "                                                                                                                                                                               ind_skill  \\\n",
       "367                                                                                                                                 [Hohes Kommunikationsgeschick, Verhandlungsgeschick]   \n",
       "1909  [vielseitige Person, motivierte Person, lernorientierte Person, Freude an der aktiven Gestaltung und Entwicklung anspruchsvoller Lösungen v.a. im Bereich der Digitalisierung hat]   \n",
       "1161                                                                                                      [Überzeugender Auftritt, dynamische Persönlichkeit, belastbare Persönlichkeit]   \n",
       "1110                                                                                                         [Freude am Unterrichten, Freude am Persönlichkeitsbildung der Jugendlichen]   \n",
       "1036                                                                         [Interesse an technischen Arbeiten, Interesse an Verfahren, Fähigkeit, Probleme zu bearbeiten und zu lösen]   \n",
       "\n",
       "                                                                                                                                                                                                                                                                               input_EN  \\\n",
       "367                                                                                                                                                                                               - <SoftSkill_C>High communication</SoftSkill_C> and <SoftSkill>negotiation</SoftSkill   \n",
       "1909   Are you a <SoftSkill_C>versatile</SoftSkill_C>, <SoftSkill_C>motivated</SoftSkill_C> and <SoftSkill>learning-oriented person</SoftSkill> who <SoftSkill>enjoys actively designing and developing sophisticated solutions, especially in the field of digitalisation</SoftSkill>?   \n",
       "1161                                                                         - <SoftSkill>Convincing appearance</SoftSkill>; <SoftSkill_C>dynamic</SoftSkill_C> and <SoftSkill>resilient personality</SoftSkill>, who aligns his or her objective to above-average performance results.   \n",
       "1110                                                                                                                                                           - <SoftSkill>Enjoyment in teaching</SoftSkill> and in the <SoftSkill_C>personal development of young people</SoftSkill_C   \n",
       "1036                                                                                                                      - <SoftSkill>Interest in technical work</SoftSkill> and <SoftSkill_C>Procedures</SoftSkill_C> and <SoftSkill>Ability to work on and solve problems</SoftSkill   \n",
       "\n",
       "                                                                                                                                                                                                                                                                                    output_EN  \n",
       "367                                                                                                                                                                                           <SoftSkill>High communication skills</SoftSkill> and <SoftSkill>Negotiation skills</SoftSkill>.  \n",
       "1909   Are you a <SoftSkill>versatile person</SoftSkill>, <SoftSkill>motivated person</SoftSkill> and <SoftSkill>learning-oriented person</SoftSkill> who <SoftSkill>enjoys actively designing and developing sophisticated solutions, especially in the field of digitalisation</SoftSkill>?  \n",
       "1161                                                                            - <SoftSkill>Convincing appearance</SoftSkill>; <SoftSkill>Dynamic personality</SoftSkill> and <SoftSkill>Resilient personality</SoftSkill>, which aligns its objective to above-average performance results.  \n",
       "1110                                                                                                                                                            <SoftSkill>Enjoyment of teaching</SoftSkill> and <SoftSkill>Enjoyment of personality development of young people</SoftSkill>.  \n",
       "1036                                                                                                                  - <SoftSkill>Interest in technical work</SoftSkill> and <SoftSkill>Interest in procedures</SoftSkill> and <SoftSkill>Ability to work on and solve problems</SoftSkill>.  "
      ]
     },
     "execution_count": 36,
     "metadata": {},
     "output_type": "execute_result"
    }
   ],
   "source": [
    "pd.set_option('display.max_colwidth', None)\n",
    "translated_df.head(5)"
   ]
  },
  {
   "cell_type": "code",
   "execution_count": 10,
   "metadata": {},
   "outputs": [
    {
     "name": "stdout",
     "output_type": "stream",
     "text": [
      "- <SoftSkill_C>friendly</SoftSkill_C>, <SoftSkill_C>clean</SoftSkill_C> and <SoftSkill>motivated appearance</SoftSkill>.\n"
     ]
    }
   ],
   "source": [
    "to_trans_text = \"\"\"•  <SoftSkill_C>freundliches</SoftSkill_C>, <SoftSkill_C>sauberes</SoftSkill_C> und <SoftSkill>motiviertes Auftreten</SoftSkill>\"\"\"\n",
    "result = translator.translate_text(to_trans_text, target_lang=\"EN-GB\")\n",
    "print(result.text)  "
   ]
  },
  {
   "cell_type": "code",
   "execution_count": 11,
   "metadata": {},
   "outputs": [
    {
     "name": "stdout",
     "output_type": "stream",
     "text": [
      "<SoftSkill>Friendly demeanour</SoftSkill>, <SoftSkill>Clean demeanour</SoftSkill> and <SoftSkill>Motivated demeanour</SoftSkill>.\n"
     ]
    }
   ],
   "source": [
    "to_trans_text = \"\"\"<SoftSkill>Freundliches Auftreten</SoftSkill>, <SoftSkill>sauberes Auftreten</SoftSkill> und <SoftSkill>motiviertes Auftreten</SoftSkill>\"\"\"\n",
    "result = translator.translate_text(to_trans_text, target_lang=\"EN-GB\")\n",
    "print(result.text)  "
   ]
  },
  {
   "cell_type": "markdown",
   "metadata": {},
   "source": [
    "## perfectly fine"
   ]
  },
  {
   "cell_type": "code",
   "execution_count": 7,
   "metadata": {},
   "outputs": [
    {
     "name": "stdout",
     "output_type": "stream",
     "text": [
      "Technical skills\n",
      "<SoftSkill>Sense of customer satisfaction</SoftSkill>.\n",
      "<SoftSkill>Leadership skills</SoftSkill>.\n",
      "Organisation of services\n",
      "<SoftSkill_C>Analytical</SoftSkill_C> and <SoftSkill>Observational skills in quality control</SoftSkill>.\n",
      "Understanding of service\n"
     ]
    }
   ],
   "source": [
    "to_trans_text = \"\"\"Technische Kenntnisse\n",
    "<SoftSkill>Gespür für Kundenzufriedenheit</SoftSkill>\n",
    "<SoftSkill>Führungsfähigkeiten</SoftSkill>\n",
    "Organisation der Dienstleistungen\n",
    "<SoftSkill_C>Analyse-</SoftSkill_C> und <SoftSkill>Beobachtungsfähigkeit bei Qualitätskontrollen</SoftSkill>\n",
    "Verständnis für Service\"\"\"\n",
    "result = translator.translate_text(to_trans_text, target_lang=\"EN-GB\")\n",
    "print(result.text)  "
   ]
  },
  {
   "cell_type": "code",
   "execution_count": 9,
   "metadata": {},
   "outputs": [
    {
     "name": "stdout",
     "output_type": "stream",
     "text": [
      "Technical skills\n",
      "<SoftSkill>Sense of customer satisfaction</SoftSkill>.\n",
      "<SoftSkill>Leadership skills</SoftSkill>.\n",
      "Organisation of services\n",
      "<SoftSkill>Analysis skills in quality control</SoftSkill> and <SoftSkill>Observation skills in quality control</SoftSkill>.\n",
      "Understanding of service\n"
     ]
    }
   ],
   "source": [
    "to_trans_text = \"\"\"Technische Kenntnisse\n",
    "<SoftSkill>Gespür für Kundenzufriedenheit</SoftSkill>\n",
    "<SoftSkill>Führungsfähigkeiten</SoftSkill>\n",
    "Organisation der Dienstleistungen\n",
    "<SoftSkill>Analysefähigkeit bei Qualitätskontrollen</SoftSkill> und <SoftSkill>Beobachtungsfähigkeit bei Qualitätskontrollen</SoftSkill>\n",
    "Verständnis für Service\"\"\"\n",
    "result = translator.translate_text(to_trans_text, target_lang=\"EN-GB\")\n",
    "print(result.text)  "
   ]
  }
 ],
 "metadata": {
  "kernelspec": {
   "display_name": "Python 3.10.3 64-bit ('3.10.3')",
   "language": "python",
   "name": "python3"
  },
  "language_info": {
   "codemirror_mode": {
    "name": "ipython",
    "version": 3
   },
   "file_extension": ".py",
   "mimetype": "text/x-python",
   "name": "python",
   "nbconvert_exporter": "python",
   "pygments_lexer": "ipython3",
   "version": "3.10.3"
  },
  "orig_nbformat": 4,
  "vscode": {
   "interpreter": {
    "hash": "3fc1f1f65d07e23b92fb36c2932144086ed232eaf14ed6358edf181f6037020d"
   }
  }
 },
 "nbformat": 4,
 "nbformat_minor": 2
}
